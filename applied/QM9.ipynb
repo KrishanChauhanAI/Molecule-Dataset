{
  "cells": [
    {
      "cell_type": "markdown",
      "metadata": {
        "id": "_JVbLbDVT-EG"
      },
      "source": [
        "# Predicting DFT Energies with GNNs\n",
        "\n",
        "QM9 is a dataset of 134,000 molecules consisting of 9 heavy atoms drawn from the elements C, H, O, N, F{cite}`ramakrishnan2014quantum`. The features are the xyz coordinates ($\\mathbf{X}$) and elements ($\\vec{e}$) of the molecule. The coordinates are determined from B3LYP/6-31G(2df,p) level DFT geometry optimization. There are multiple labels (see table below), but we'll be interested specifically in the energy of formation (Enthalpy at 298.15 K). The goal in this chapter is to regress a graph neural network to predict the energy of formation given the coordinates of a molecule. We will build upon ideas in the following chapters:\n",
        "\n",
        "1. {doc}`../ml/regression`\n",
        "2. {doc}`../dl/gnn`\n",
        "3. {doc}`../dl/data`\n",
        "\n",
        "\n",
        "QM9 is one of the most popular dataset for machine learning and deep learning since it came out in 2014. The first papers could achieve about 10 kcal/mol on this regression problem and now are down to ~1 kcal/mol and lower. Any model on this dataset must be translation, rotation, and permutation invariant."
      ]
    },
    {
      "cell_type": "code",
      "source": [
        "from google.colab import drive\n",
        "drive.mount('/content/drive')"
      ],
      "metadata": {
        "colab": {
          "base_uri": "https://localhost:8080/"
        },
        "id": "BqYmdRzFUEmk",
        "outputId": "e1b0c163-a9b4-4322-8d28-dbb3e7422121"
      },
      "execution_count": 1,
      "outputs": [
        {
          "output_type": "stream",
          "name": "stdout",
          "text": [
            "Mounted at /content/drive\n"
          ]
        }
      ]
    },
    {
      "cell_type": "markdown",
      "metadata": {
        "id": "2LBh1G4MT-EJ"
      },
      "source": [
        "## Label Description\n",
        "\n",
        "|Index | Name | Units | Description|\n",
        " |:-----|-------|-------|-----------:|\n",
        "  |0  |index  |   -            |Consecutive, 1-based integer identifier of molecule|\n",
        "  |1  |A      |   GHz          |Rotational constant A|\n",
        "  |2  |B      |   GHz          |Rotational constant B|\n",
        "  |3  |C      |   GHz          |Rotational constant C|\n",
        "  |4  |mu     |   Debye        |Dipole moment|\n",
        "  |5  |alpha  |   Bohr^3       |Isotropic polarizability|\n",
        "  |6  |homo   |   Hartree      |Energy of Highest occupied molecular orbital (HOMO)|\n",
        "  |7  |lumo   |   Hartree      |Energy of Lowest unoccupied molecular orbital (LUMO)|\n",
        " |8 | gap   |    Hartree     | Gap, difference between LUMO and HOMO|\n",
        " |9 | r2    |    Bohr^2      | Electronic spatial extent|\n",
        " |10 | zpve  |    Hartree     | Zero point vibrational energy|\n",
        " |11 | U0    |    Hartree     | Internal energy at 0 K|\n",
        " |12 | U     |    Hartree     | Internal energy at 298.15 K|\n",
        " |13 | H     |    Hartree     | Enthalpy at 298.15 K|\n",
        " |14 | G     |    Hartree     | Free energy at 298.15 K|\n",
        " |15 | Cv    |    cal/(mol K) | Heat capacity at 298.15 K|\n"
      ]
    },
    {
      "cell_type": "markdown",
      "metadata": {
        "id": "dP9NhPxvT-EJ"
      },
      "source": [
        "## Data\n",
        "\n",
        "I have written some helper code in the `fetch_data.py` file. It downloads the data and converts into a format easily used in Python. The data returned from this function is broken into the features $\\mathbf{X}$ and $\\vec{e}$. $\\mathbf{X}$ is an $N\\times4$ matrix of atom positions + partial charge of the atom. $\\vec{e}$ is vector of atomic numbers for each atom in the molecule. Remember to slice the specific label you want from the label vector."
      ]
    },
    {
      "cell_type": "markdown",
      "metadata": {
        "id": "OI_2lnkJT-EK"
      },
      "source": [
        "## Running This Notebook\n",
        "\n",
        "\n",
        "Click the &nbsp;<i aria-label=\"Launch interactive content\" class=\"fas fa-rocket\"></i>&nbsp; above to launch this page as an interactive Google Colab. See details below on installing packages.\n",
        "\n",
        "````{tip} My title\n",
        ":class: dropdown\n",
        "To install packages, execute this code in a new cell.\n",
        "\n",
        "```\n",
        "!pip install dmol-book\n",
        "```\n",
        "\n",
        "If you find install problems, you can get the latest working versions of packages used in [this book here](https://github.com/whitead/dmol-book/blob/main/package/setup.py)\n",
        "\n",
        "````"
      ]
    },
    {
      "cell_type": "code",
      "source": [
        "!python -m pip install \"pip<24.1\""
      ],
      "metadata": {
        "collapsed": true,
        "colab": {
          "base_uri": "https://localhost:8080/"
        },
        "id": "LCM-b6VKUgL7",
        "outputId": "63b341ee-519f-4e06-d5f0-87950187816a"
      },
      "execution_count": 3,
      "outputs": [
        {
          "output_type": "stream",
          "name": "stdout",
          "text": [
            "Collecting pip<24.1\n",
            "  Downloading pip-24.0-py3-none-any.whl.metadata (3.6 kB)\n",
            "Downloading pip-24.0-py3-none-any.whl (2.1 MB)\n",
            "\u001b[?25l   \u001b[90m━━━━━━━━━━━━━━━━━━━━━━━━━━━━━━━━━━━━━━━━\u001b[0m \u001b[32m0.0/2.1 MB\u001b[0m \u001b[31m?\u001b[0m eta \u001b[36m-:--:--\u001b[0m\r\u001b[2K   \u001b[91m━━━━━━━━━━━━━━━━━\u001b[0m\u001b[90m╺\u001b[0m\u001b[90m━━━━━━━━━━━━━━━━━━━━━━\u001b[0m \u001b[32m0.9/2.1 MB\u001b[0m \u001b[31m28.2 MB/s\u001b[0m eta \u001b[36m0:00:01\u001b[0m\r\u001b[2K   \u001b[90m━━━━━━━━━━━━━━━━━━━━━━━━━━━━━━━━━━━━━━━━\u001b[0m \u001b[32m2.1/2.1 MB\u001b[0m \u001b[31m30.9 MB/s\u001b[0m eta \u001b[36m0:00:00\u001b[0m\n",
            "\u001b[?25hInstalling collected packages: pip\n",
            "  Attempting uninstall: pip\n",
            "    Found existing installation: pip 24.1.2\n",
            "    Uninstalling pip-24.1.2:\n",
            "      Successfully uninstalled pip-24.1.2\n",
            "Successfully installed pip-24.0\n"
          ]
        }
      ]
    },
    {
      "cell_type": "code",
      "source": [
        "!python -m pip install -U jupyter-book\n",
        "# conda install -c conda-forge jupyter-book"
      ],
      "metadata": {
        "collapsed": true,
        "colab": {
          "base_uri": "https://localhost:8080/"
        },
        "id": "BbEGmy0GUVPE",
        "outputId": "d02e5800-ceaa-458e-d055-b487c38a49ca"
      },
      "execution_count": 5,
      "outputs": [
        {
          "output_type": "stream",
          "name": "stdout",
          "text": [
            "Collecting jupyter-book\n",
            "  Downloading jupyter_book-1.0.4.post1-py3-none-any.whl.metadata (8.0 kB)\n",
            "Requirement already satisfied: click<9,>=7.1 in /usr/local/lib/python3.12/dist-packages (from jupyter-book) (8.3.0)\n",
            "Requirement already satisfied: jinja2 in /usr/local/lib/python3.12/dist-packages (from jupyter-book) (3.1.6)\n",
            "Requirement already satisfied: jsonschema<5 in /usr/local/lib/python3.12/dist-packages (from jupyter-book) (4.25.1)\n",
            "Requirement already satisfied: linkify-it-py<3,>=2 in /usr/local/lib/python3.12/dist-packages (from jupyter-book) (2.0.3)\n",
            "Collecting myst-nb~=1.0 (from jupyter-book)\n",
            "  Downloading myst_nb-1.3.0-py3-none-any.whl.metadata (4.7 kB)\n",
            "Collecting myst-parser~=3.0 (from jupyter-book)\n",
            "  Downloading myst_parser-3.0.1-py3-none-any.whl.metadata (5.5 kB)\n",
            "Requirement already satisfied: pyyaml in /usr/local/lib/python3.12/dist-packages (from jupyter-book) (6.0.3)\n",
            "Collecting sphinx-book-theme~=1.1 (from jupyter-book)\n",
            "  Downloading sphinx_book_theme-1.1.4-py3-none-any.whl.metadata (5.8 kB)\n",
            "Collecting sphinx-comments~=0.0 (from jupyter-book)\n",
            "  Downloading sphinx_comments-0.0.3-py3-none-any.whl.metadata (3.3 kB)\n",
            "Collecting sphinx-copybutton~=0.5 (from jupyter-book)\n",
            "  Downloading sphinx_copybutton-0.5.2-py3-none-any.whl.metadata (3.2 kB)\n",
            "Collecting sphinx-design~=0.6 (from jupyter-book)\n",
            "  Downloading sphinx_design-0.6.1-py3-none-any.whl.metadata (5.5 kB)\n",
            "Collecting sphinx-external-toc~=1.0 (from jupyter-book)\n",
            "  Downloading sphinx_external_toc-1.0.1-py3-none-any.whl.metadata (15 kB)\n",
            "Collecting sphinx-jupyterbook-latex~=1.0 (from jupyter-book)\n",
            "  Downloading sphinx_jupyterbook_latex-1.0.0-py3-none-any.whl.metadata (3.7 kB)\n",
            "Collecting sphinx-multitoc-numbering~=0.1 (from jupyter-book)\n",
            "  Downloading sphinx_multitoc_numbering-0.1.3-py3-none-any.whl.metadata (2.6 kB)\n",
            "Collecting sphinx-thebe~=0.3 (from jupyter-book)\n",
            "  Downloading sphinx_thebe-0.3.1-py3-none-any.whl.metadata (2.6 kB)\n",
            "Collecting sphinx-togglebutton~=0.3 (from jupyter-book)\n",
            "  Downloading sphinx_togglebutton-0.3.2-py3-none-any.whl.metadata (2.4 kB)\n",
            "Collecting sphinxcontrib-bibtex~=2.5 (from jupyter-book)\n",
            "  Downloading sphinxcontrib_bibtex-2.6.5-py3-none-any.whl.metadata (6.1 kB)\n",
            "Collecting sphinx~=7.0 (from jupyter-book)\n",
            "  Downloading sphinx-7.4.7-py3-none-any.whl.metadata (6.1 kB)\n",
            "Requirement already satisfied: attrs>=22.2.0 in /usr/local/lib/python3.12/dist-packages (from jsonschema<5->jupyter-book) (25.4.0)\n",
            "Requirement already satisfied: jsonschema-specifications>=2023.03.6 in /usr/local/lib/python3.12/dist-packages (from jsonschema<5->jupyter-book) (2025.9.1)\n",
            "Requirement already satisfied: referencing>=0.28.4 in /usr/local/lib/python3.12/dist-packages (from jsonschema<5->jupyter-book) (0.37.0)\n",
            "Requirement already satisfied: rpds-py>=0.7.1 in /usr/local/lib/python3.12/dist-packages (from jsonschema<5->jupyter-book) (0.28.0)\n",
            "Requirement already satisfied: uc-micro-py in /usr/local/lib/python3.12/dist-packages (from linkify-it-py<3,>=2->jupyter-book) (1.0.3)\n",
            "Requirement already satisfied: importlib_metadata in /usr/local/lib/python3.12/dist-packages (from myst-nb~=1.0->jupyter-book) (8.7.0)\n",
            "Requirement already satisfied: ipython in /usr/local/lib/python3.12/dist-packages (from myst-nb~=1.0->jupyter-book) (7.34.0)\n",
            "Collecting jupyter-cache>=0.5 (from myst-nb~=1.0->jupyter-book)\n",
            "  Downloading jupyter_cache-1.0.1-py3-none-any.whl.metadata (5.8 kB)\n",
            "Requirement already satisfied: nbclient in /usr/local/lib/python3.12/dist-packages (from myst-nb~=1.0->jupyter-book) (0.10.2)\n",
            "Requirement already satisfied: nbformat>=5.0 in /usr/local/lib/python3.12/dist-packages (from myst-nb~=1.0->jupyter-book) (5.10.4)\n",
            "Requirement already satisfied: typing-extensions in /usr/local/lib/python3.12/dist-packages (from myst-nb~=1.0->jupyter-book) (4.15.0)\n",
            "Requirement already satisfied: ipykernel in /usr/local/lib/python3.12/dist-packages (from myst-nb~=1.0->jupyter-book) (6.17.1)\n",
            "Requirement already satisfied: docutils<0.22,>=0.18 in /usr/local/lib/python3.12/dist-packages (from myst-parser~=3.0->jupyter-book) (0.21.2)\n",
            "Collecting markdown-it-py~=3.0 (from myst-parser~=3.0->jupyter-book)\n",
            "  Downloading markdown_it_py-3.0.0-py3-none-any.whl.metadata (6.9 kB)\n",
            "Requirement already satisfied: mdit-py-plugins~=0.4 in /usr/local/lib/python3.12/dist-packages (from myst-parser~=3.0->jupyter-book) (0.5.0)\n",
            "Requirement already satisfied: sphinxcontrib-applehelp in /usr/local/lib/python3.12/dist-packages (from sphinx~=7.0->jupyter-book) (2.0.0)\n",
            "Requirement already satisfied: sphinxcontrib-devhelp in /usr/local/lib/python3.12/dist-packages (from sphinx~=7.0->jupyter-book) (2.0.0)\n",
            "Requirement already satisfied: sphinxcontrib-jsmath in /usr/local/lib/python3.12/dist-packages (from sphinx~=7.0->jupyter-book) (1.0.1)\n",
            "Requirement already satisfied: sphinxcontrib-htmlhelp>=2.0.0 in /usr/local/lib/python3.12/dist-packages (from sphinx~=7.0->jupyter-book) (2.1.0)\n",
            "Requirement already satisfied: sphinxcontrib-serializinghtml>=1.1.9 in /usr/local/lib/python3.12/dist-packages (from sphinx~=7.0->jupyter-book) (2.0.0)\n",
            "Requirement already satisfied: sphinxcontrib-qthelp in /usr/local/lib/python3.12/dist-packages (from sphinx~=7.0->jupyter-book) (2.0.0)\n",
            "Requirement already satisfied: Pygments>=2.17 in /usr/local/lib/python3.12/dist-packages (from sphinx~=7.0->jupyter-book) (2.19.2)\n",
            "Requirement already satisfied: snowballstemmer>=2.2 in /usr/local/lib/python3.12/dist-packages (from sphinx~=7.0->jupyter-book) (3.0.1)\n",
            "Requirement already satisfied: babel>=2.13 in /usr/local/lib/python3.12/dist-packages (from sphinx~=7.0->jupyter-book) (2.17.0)\n",
            "Collecting alabaster~=0.7.14 (from sphinx~=7.0->jupyter-book)\n",
            "  Downloading alabaster-0.7.16-py3-none-any.whl.metadata (2.9 kB)\n",
            "Requirement already satisfied: imagesize>=1.3 in /usr/local/lib/python3.12/dist-packages (from sphinx~=7.0->jupyter-book) (1.4.1)\n",
            "Requirement already satisfied: requests>=2.30.0 in /usr/local/lib/python3.12/dist-packages (from sphinx~=7.0->jupyter-book) (2.32.4)\n",
            "Requirement already satisfied: packaging>=23.0 in /usr/local/lib/python3.12/dist-packages (from sphinx~=7.0->jupyter-book) (25.0)\n",
            "Requirement already satisfied: MarkupSafe>=2.0 in /usr/local/lib/python3.12/dist-packages (from jinja2->jupyter-book) (3.0.3)\n",
            "Collecting pydata-sphinx-theme==0.15.4 (from sphinx-book-theme~=1.1->jupyter-book)\n",
            "  Downloading pydata_sphinx_theme-0.15.4-py3-none-any.whl.metadata (7.5 kB)\n",
            "Requirement already satisfied: beautifulsoup4 in /usr/local/lib/python3.12/dist-packages (from pydata-sphinx-theme==0.15.4->sphinx-book-theme~=1.1->jupyter-book) (4.13.5)\n",
            "Collecting accessible-pygments (from pydata-sphinx-theme==0.15.4->sphinx-book-theme~=1.1->jupyter-book)\n",
            "  Downloading accessible_pygments-0.0.5-py3-none-any.whl.metadata (10 kB)\n",
            "Requirement already satisfied: setuptools in /usr/local/lib/python3.12/dist-packages (from sphinx-togglebutton~=0.3->jupyter-book) (75.2.0)\n",
            "Requirement already satisfied: wheel in /usr/local/lib/python3.12/dist-packages (from sphinx-togglebutton~=0.3->jupyter-book) (0.45.1)\n",
            "Collecting pybtex>=0.25 (from sphinxcontrib-bibtex~=2.5->jupyter-book)\n",
            "  Downloading pybtex-0.25.1-py2.py3-none-any.whl.metadata (2.2 kB)\n",
            "Collecting pybtex-docutils>=1.0.0 (from sphinxcontrib-bibtex~=2.5->jupyter-book)\n",
            "  Downloading pybtex_docutils-1.0.3-py3-none-any.whl.metadata (4.3 kB)\n",
            "Requirement already satisfied: sqlalchemy<3,>=1.3.12 in /usr/local/lib/python3.12/dist-packages (from jupyter-cache>=0.5->myst-nb~=1.0->jupyter-book) (2.0.44)\n",
            "Requirement already satisfied: tabulate in /usr/local/lib/python3.12/dist-packages (from jupyter-cache>=0.5->myst-nb~=1.0->jupyter-book) (0.9.0)\n",
            "Requirement already satisfied: mdurl~=0.1 in /usr/local/lib/python3.12/dist-packages (from markdown-it-py~=3.0->myst-parser~=3.0->jupyter-book) (0.1.2)\n",
            "Requirement already satisfied: jupyter-client>=6.1.12 in /usr/local/lib/python3.12/dist-packages (from nbclient->myst-nb~=1.0->jupyter-book) (7.4.9)\n",
            "Requirement already satisfied: jupyter-core!=5.0.*,>=4.12 in /usr/local/lib/python3.12/dist-packages (from nbclient->myst-nb~=1.0->jupyter-book) (5.9.1)\n",
            "Requirement already satisfied: traitlets>=5.4 in /usr/local/lib/python3.12/dist-packages (from nbclient->myst-nb~=1.0->jupyter-book) (5.7.1)\n",
            "Requirement already satisfied: fastjsonschema>=2.15 in /usr/local/lib/python3.12/dist-packages (from nbformat>=5.0->myst-nb~=1.0->jupyter-book) (2.21.2)\n",
            "Collecting latexcodec>=1.0.4 (from pybtex>=0.25->sphinxcontrib-bibtex~=2.5->jupyter-book)\n",
            "  Downloading latexcodec-3.0.1-py3-none-any.whl.metadata (5.2 kB)\n",
            "Requirement already satisfied: charset_normalizer<4,>=2 in /usr/local/lib/python3.12/dist-packages (from requests>=2.30.0->sphinx~=7.0->jupyter-book) (3.4.4)\n",
            "Requirement already satisfied: idna<4,>=2.5 in /usr/local/lib/python3.12/dist-packages (from requests>=2.30.0->sphinx~=7.0->jupyter-book) (3.11)\n",
            "Requirement already satisfied: urllib3<3,>=1.21.1 in /usr/local/lib/python3.12/dist-packages (from requests>=2.30.0->sphinx~=7.0->jupyter-book) (2.5.0)\n",
            "Requirement already satisfied: certifi>=2017.4.17 in /usr/local/lib/python3.12/dist-packages (from requests>=2.30.0->sphinx~=7.0->jupyter-book) (2025.10.5)\n",
            "Requirement already satisfied: zipp>=3.20 in /usr/local/lib/python3.12/dist-packages (from importlib_metadata->myst-nb~=1.0->jupyter-book) (3.23.0)\n",
            "Requirement already satisfied: debugpy>=1.0 in /usr/local/lib/python3.12/dist-packages (from ipykernel->myst-nb~=1.0->jupyter-book) (1.8.15)\n",
            "Requirement already satisfied: matplotlib-inline>=0.1 in /usr/local/lib/python3.12/dist-packages (from ipykernel->myst-nb~=1.0->jupyter-book) (0.2.1)\n",
            "Requirement already satisfied: nest-asyncio in /usr/local/lib/python3.12/dist-packages (from ipykernel->myst-nb~=1.0->jupyter-book) (1.6.0)\n",
            "Requirement already satisfied: psutil in /usr/local/lib/python3.12/dist-packages (from ipykernel->myst-nb~=1.0->jupyter-book) (5.9.5)\n",
            "Requirement already satisfied: pyzmq>=17 in /usr/local/lib/python3.12/dist-packages (from ipykernel->myst-nb~=1.0->jupyter-book) (26.2.1)\n",
            "Requirement already satisfied: tornado>=6.1 in /usr/local/lib/python3.12/dist-packages (from ipykernel->myst-nb~=1.0->jupyter-book) (6.5.1)\n",
            "Collecting jedi>=0.16 (from ipython->myst-nb~=1.0->jupyter-book)\n",
            "  Downloading jedi-0.19.2-py2.py3-none-any.whl.metadata (22 kB)\n",
            "Requirement already satisfied: decorator in /usr/local/lib/python3.12/dist-packages (from ipython->myst-nb~=1.0->jupyter-book) (4.4.2)\n",
            "Requirement already satisfied: pickleshare in /usr/local/lib/python3.12/dist-packages (from ipython->myst-nb~=1.0->jupyter-book) (0.7.5)\n",
            "Requirement already satisfied: prompt-toolkit!=3.0.0,!=3.0.1,<3.1.0,>=2.0.0 in /usr/local/lib/python3.12/dist-packages (from ipython->myst-nb~=1.0->jupyter-book) (3.0.52)\n",
            "Requirement already satisfied: backcall in /usr/local/lib/python3.12/dist-packages (from ipython->myst-nb~=1.0->jupyter-book) (0.2.0)\n",
            "Requirement already satisfied: pexpect>4.3 in /usr/local/lib/python3.12/dist-packages (from ipython->myst-nb~=1.0->jupyter-book) (4.9.0)\n",
            "Requirement already satisfied: parso<0.9.0,>=0.8.4 in /usr/local/lib/python3.12/dist-packages (from jedi>=0.16->ipython->myst-nb~=1.0->jupyter-book) (0.8.5)\n",
            "Requirement already satisfied: entrypoints in /usr/local/lib/python3.12/dist-packages (from jupyter-client>=6.1.12->nbclient->myst-nb~=1.0->jupyter-book) (0.4)\n",
            "Requirement already satisfied: python-dateutil>=2.8.2 in /usr/local/lib/python3.12/dist-packages (from jupyter-client>=6.1.12->nbclient->myst-nb~=1.0->jupyter-book) (2.9.0.post0)\n",
            "Requirement already satisfied: platformdirs>=2.5 in /usr/local/lib/python3.12/dist-packages (from jupyter-core!=5.0.*,>=4.12->nbclient->myst-nb~=1.0->jupyter-book) (4.5.0)\n",
            "Requirement already satisfied: ptyprocess>=0.5 in /usr/local/lib/python3.12/dist-packages (from pexpect>4.3->ipython->myst-nb~=1.0->jupyter-book) (0.7.0)\n",
            "Requirement already satisfied: wcwidth in /usr/local/lib/python3.12/dist-packages (from prompt-toolkit!=3.0.0,!=3.0.1,<3.1.0,>=2.0.0->ipython->myst-nb~=1.0->jupyter-book) (0.2.14)\n",
            "Requirement already satisfied: greenlet>=1 in /usr/local/lib/python3.12/dist-packages (from sqlalchemy<3,>=1.3.12->jupyter-cache>=0.5->myst-nb~=1.0->jupyter-book) (3.2.4)\n",
            "Requirement already satisfied: soupsieve>1.2 in /usr/local/lib/python3.12/dist-packages (from beautifulsoup4->pydata-sphinx-theme==0.15.4->sphinx-book-theme~=1.1->jupyter-book) (2.8)\n",
            "Requirement already satisfied: six>=1.5 in /usr/local/lib/python3.12/dist-packages (from python-dateutil>=2.8.2->jupyter-client>=6.1.12->nbclient->myst-nb~=1.0->jupyter-book) (1.17.0)\n",
            "Downloading jupyter_book-1.0.4.post1-py3-none-any.whl (45 kB)\n",
            "\u001b[2K   \u001b[90m━━━━━━━━━━━━━━━━━━━━━━━━━━━━━━━━━━━━━━━━\u001b[0m \u001b[32m45.0/45.0 kB\u001b[0m \u001b[31m3.2 MB/s\u001b[0m eta \u001b[36m0:00:00\u001b[0m\n",
            "\u001b[?25hDownloading myst_nb-1.3.0-py3-none-any.whl (82 kB)\n",
            "\u001b[2K   \u001b[90m━━━━━━━━━━━━━━━━━━━━━━━━━━━━━━━━━━━━━━━━\u001b[0m \u001b[32m82.4/82.4 kB\u001b[0m \u001b[31m6.0 MB/s\u001b[0m eta \u001b[36m0:00:00\u001b[0m\n",
            "\u001b[?25hDownloading myst_parser-3.0.1-py3-none-any.whl (83 kB)\n",
            "\u001b[2K   \u001b[90m━━━━━━━━━━━━━━━━━━━━━━━━━━━━━━━━━━━━━━━━\u001b[0m \u001b[32m83.2/83.2 kB\u001b[0m \u001b[31m5.5 MB/s\u001b[0m eta \u001b[36m0:00:00\u001b[0m\n",
            "\u001b[?25hDownloading sphinx-7.4.7-py3-none-any.whl (3.4 MB)\n",
            "\u001b[2K   \u001b[90m━━━━━━━━━━━━━━━━━━━━━━━━━━━━━━━━━━━━━━━━\u001b[0m \u001b[32m3.4/3.4 MB\u001b[0m \u001b[31m54.5 MB/s\u001b[0m eta \u001b[36m0:00:00\u001b[0m\n",
            "\u001b[?25hDownloading sphinx_book_theme-1.1.4-py3-none-any.whl (433 kB)\n",
            "\u001b[2K   \u001b[90m━━━━━━━━━━━━━━━━━━━━━━━━━━━━━━━━━━━━━━━━\u001b[0m \u001b[32m434.0/434.0 kB\u001b[0m \u001b[31m25.4 MB/s\u001b[0m eta \u001b[36m0:00:00\u001b[0m\n",
            "\u001b[?25hDownloading pydata_sphinx_theme-0.15.4-py3-none-any.whl (4.6 MB)\n",
            "\u001b[2K   \u001b[90m━━━━━━━━━━━━━━━━━━━━━━━━━━━━━━━━━━━━━━━━\u001b[0m \u001b[32m4.6/4.6 MB\u001b[0m \u001b[31m86.5 MB/s\u001b[0m eta \u001b[36m0:00:00\u001b[0m\n",
            "\u001b[?25hDownloading sphinx_comments-0.0.3-py3-none-any.whl (4.6 kB)\n",
            "Downloading sphinx_copybutton-0.5.2-py3-none-any.whl (13 kB)\n",
            "Downloading sphinx_design-0.6.1-py3-none-any.whl (2.2 MB)\n",
            "\u001b[2K   \u001b[90m━━━━━━━━━━━━━━━━━━━━━━━━━━━━━━━━━━━━━━━━\u001b[0m \u001b[32m2.2/2.2 MB\u001b[0m \u001b[31m59.2 MB/s\u001b[0m eta \u001b[36m0:00:00\u001b[0m\n",
            "\u001b[?25hDownloading sphinx_external_toc-1.0.1-py3-none-any.whl (26 kB)\n",
            "Downloading sphinx_jupyterbook_latex-1.0.0-py3-none-any.whl (13 kB)\n",
            "Downloading sphinx_multitoc_numbering-0.1.3-py3-none-any.whl (4.6 kB)\n",
            "Downloading sphinx_thebe-0.3.1-py3-none-any.whl (9.0 kB)\n",
            "Downloading sphinx_togglebutton-0.3.2-py3-none-any.whl (8.2 kB)\n",
            "Downloading sphinxcontrib_bibtex-2.6.5-py3-none-any.whl (40 kB)\n",
            "\u001b[2K   \u001b[90m━━━━━━━━━━━━━━━━━━━━━━━━━━━━━━━━━━━━━━━━\u001b[0m \u001b[32m40.4/40.4 kB\u001b[0m \u001b[31m3.1 MB/s\u001b[0m eta \u001b[36m0:00:00\u001b[0m\n",
            "\u001b[?25hDownloading alabaster-0.7.16-py3-none-any.whl (13 kB)\n",
            "Downloading jupyter_cache-1.0.1-py3-none-any.whl (33 kB)\n",
            "Downloading markdown_it_py-3.0.0-py3-none-any.whl (87 kB)\n",
            "\u001b[2K   \u001b[90m━━━━━━━━━━━━━━━━━━━━━━━━━━━━━━━━━━━━━━━━\u001b[0m \u001b[32m87.5/87.5 kB\u001b[0m \u001b[31m7.4 MB/s\u001b[0m eta \u001b[36m0:00:00\u001b[0m\n",
            "\u001b[?25hDownloading pybtex-0.25.1-py2.py3-none-any.whl (127 kB)\n",
            "\u001b[2K   \u001b[90m━━━━━━━━━━━━━━━━━━━━━━━━━━━━━━━━━━━━━━━━\u001b[0m \u001b[32m127.4/127.4 kB\u001b[0m \u001b[31m8.1 MB/s\u001b[0m eta \u001b[36m0:00:00\u001b[0m\n",
            "\u001b[?25hDownloading pybtex_docutils-1.0.3-py3-none-any.whl (6.4 kB)\n",
            "Downloading jedi-0.19.2-py2.py3-none-any.whl (1.6 MB)\n",
            "\u001b[2K   \u001b[90m━━━━━━━━━━━━━━━━━━━━━━━━━━━━━━━━━━━━━━━━\u001b[0m \u001b[32m1.6/1.6 MB\u001b[0m \u001b[31m60.5 MB/s\u001b[0m eta \u001b[36m0:00:00\u001b[0m\n",
            "\u001b[?25hDownloading latexcodec-3.0.1-py3-none-any.whl (18 kB)\n",
            "Downloading accessible_pygments-0.0.5-py3-none-any.whl (1.4 MB)\n",
            "\u001b[2K   \u001b[90m━━━━━━━━━━━━━━━━━━━━━━━━━━━━━━━━━━━━━━━━\u001b[0m \u001b[32m1.4/1.4 MB\u001b[0m \u001b[31m57.5 MB/s\u001b[0m eta \u001b[36m0:00:00\u001b[0m\n",
            "\u001b[?25hInstalling collected packages: markdown-it-py, latexcodec, jedi, alabaster, accessible-pygments, sphinx, pybtex, sphinx-togglebutton, sphinx-thebe, sphinx-multitoc-numbering, sphinx-jupyterbook-latex, sphinx-external-toc, sphinx-design, sphinx-copybutton, sphinx-comments, pydata-sphinx-theme, pybtex-docutils, myst-parser, sphinxcontrib-bibtex, sphinx-book-theme, jupyter-cache, myst-nb, jupyter-book\n",
            "  Attempting uninstall: markdown-it-py\n",
            "    Found existing installation: markdown-it-py 4.0.0\n",
            "    Uninstalling markdown-it-py-4.0.0:\n",
            "      Successfully uninstalled markdown-it-py-4.0.0\n",
            "  Attempting uninstall: alabaster\n",
            "    Found existing installation: alabaster 1.0.0\n",
            "    Uninstalling alabaster-1.0.0:\n",
            "      Successfully uninstalled alabaster-1.0.0\n",
            "  Attempting uninstall: sphinx\n",
            "    Found existing installation: Sphinx 8.2.3\n",
            "    Uninstalling Sphinx-8.2.3:\n",
            "      Successfully uninstalled Sphinx-8.2.3\n",
            "Successfully installed accessible-pygments-0.0.5 alabaster-0.7.16 jedi-0.19.2 jupyter-book-1.0.4.post1 jupyter-cache-1.0.1 latexcodec-3.0.1 markdown-it-py-3.0.0 myst-nb-1.3.0 myst-parser-3.0.1 pybtex-0.25.1 pybtex-docutils-1.0.3 pydata-sphinx-theme-0.15.4 sphinx-7.4.7 sphinx-book-theme-1.1.4 sphinx-comments-0.0.3 sphinx-copybutton-0.5.2 sphinx-design-0.6.1 sphinx-external-toc-1.0.1 sphinx-jupyterbook-latex-1.0.0 sphinx-multitoc-numbering-0.1.3 sphinx-thebe-0.3.1 sphinx-togglebutton-0.3.2 sphinxcontrib-bibtex-2.6.5\n"
          ]
        }
      ]
    },
    {
      "cell_type": "code",
      "source": [
        "pwd"
      ],
      "metadata": {
        "colab": {
          "base_uri": "https://localhost:8080/",
          "height": 36
        },
        "id": "LulxlgL9WIem",
        "outputId": "4bedfa14-99b4-49a8-b97b-ec5796f7f368"
      },
      "execution_count": 2,
      "outputs": [
        {
          "output_type": "execute_result",
          "data": {
            "text/plain": [
              "'/content'"
            ],
            "application/vnd.google.colaboratory.intrinsic+json": {
              "type": "string"
            }
          },
          "metadata": {},
          "execution_count": 2
        }
      ]
    },
    {
      "cell_type": "code",
      "source": [
        "cd /content/drive/MyDrive/QM"
      ],
      "metadata": {
        "colab": {
          "base_uri": "https://localhost:8080/"
        },
        "id": "BrtEouVgWVW-",
        "outputId": "0b6121e7-4638-428c-c413-1a0b7028aa77"
      },
      "execution_count": 3,
      "outputs": [
        {
          "output_type": "stream",
          "name": "stdout",
          "text": [
            "/content/drive/MyDrive/QM\n"
          ]
        }
      ]
    },
    {
      "cell_type": "code",
      "source": [
        "rm -r dmol-book/"
      ],
      "metadata": {
        "id": "M6K8Xcf2Y3um"
      },
      "execution_count": 25,
      "outputs": []
    },
    {
      "cell_type": "code",
      "source": [
        "pip cache purge"
      ],
      "metadata": {
        "colab": {
          "base_uri": "https://localhost:8080/"
        },
        "id": "PBLEQ9IkZgDZ",
        "outputId": "f9301e5b-3409-4da5-b1ba-996845f2004a"
      },
      "execution_count": 4,
      "outputs": [
        {
          "output_type": "stream",
          "name": "stdout",
          "text": [
            "\u001b[33mWARNING: No matching packages\u001b[0m\u001b[33m\n",
            "\u001b[0mFiles removed: 0\n"
          ]
        }
      ]
    },
    {
      "cell_type": "code",
      "source": [
        "!pip install jupyter-book matplotlib numpy \"ipython!=8.7.0\" jax jaxlib pandas \"tensorflow>=2.7\" seaborn tabulate scikit-learn"
      ],
      "metadata": {
        "collapsed": true,
        "colab": {
          "base_uri": "https://localhost:8080/"
        },
        "id": "5Ud3-DeGZUZP",
        "outputId": "439c8984-214e-44ab-b825-26ccd5d12896"
      },
      "execution_count": 33,
      "outputs": [
        {
          "output_type": "stream",
          "name": "stdout",
          "text": [
            "Requirement already satisfied: jupyter-book in /usr/local/lib/python3.12/dist-packages (1.0.4.post1)\n",
            "Requirement already satisfied: matplotlib in /usr/local/lib/python3.12/dist-packages (3.10.0)\n",
            "Requirement already satisfied: numpy in /usr/local/lib/python3.12/dist-packages (2.0.2)\n",
            "Requirement already satisfied: ipython!=8.7.0 in /usr/local/lib/python3.12/dist-packages (7.34.0)\n",
            "Requirement already satisfied: jax in /usr/local/lib/python3.12/dist-packages (0.7.2)\n",
            "Requirement already satisfied: jaxlib in /usr/local/lib/python3.12/dist-packages (0.7.2)\n",
            "Requirement already satisfied: pandas in /usr/local/lib/python3.12/dist-packages (2.2.2)\n",
            "Requirement already satisfied: tensorflow>=2.7 in /usr/local/lib/python3.12/dist-packages (2.19.0)\n",
            "Requirement already satisfied: seaborn in /usr/local/lib/python3.12/dist-packages (0.13.2)\n",
            "Requirement already satisfied: tabulate in /usr/local/lib/python3.12/dist-packages (0.9.0)\n",
            "Requirement already satisfied: scikit-learn in /usr/local/lib/python3.12/dist-packages (1.6.1)\n",
            "Requirement already satisfied: click<9,>=7.1 in /usr/local/lib/python3.12/dist-packages (from jupyter-book) (8.3.0)\n",
            "Requirement already satisfied: jinja2 in /usr/local/lib/python3.12/dist-packages (from jupyter-book) (3.1.6)\n",
            "Requirement already satisfied: jsonschema<5 in /usr/local/lib/python3.12/dist-packages (from jupyter-book) (4.25.1)\n",
            "Requirement already satisfied: linkify-it-py<3,>=2 in /usr/local/lib/python3.12/dist-packages (from jupyter-book) (2.0.3)\n",
            "Requirement already satisfied: myst-nb~=1.0 in /usr/local/lib/python3.12/dist-packages (from jupyter-book) (1.3.0)\n",
            "Requirement already satisfied: myst-parser~=3.0 in /usr/local/lib/python3.12/dist-packages (from jupyter-book) (3.0.1)\n",
            "Requirement already satisfied: pyyaml in /usr/local/lib/python3.12/dist-packages (from jupyter-book) (6.0.3)\n",
            "Requirement already satisfied: sphinx-book-theme~=1.1 in /usr/local/lib/python3.12/dist-packages (from jupyter-book) (1.1.4)\n",
            "Requirement already satisfied: sphinx-comments~=0.0 in /usr/local/lib/python3.12/dist-packages (from jupyter-book) (0.0.3)\n",
            "Requirement already satisfied: sphinx-copybutton~=0.5 in /usr/local/lib/python3.12/dist-packages (from jupyter-book) (0.5.2)\n",
            "Requirement already satisfied: sphinx-design~=0.6 in /usr/local/lib/python3.12/dist-packages (from jupyter-book) (0.6.1)\n",
            "Requirement already satisfied: sphinx-external-toc~=1.0 in /usr/local/lib/python3.12/dist-packages (from jupyter-book) (1.0.1)\n",
            "Requirement already satisfied: sphinx-jupyterbook-latex~=1.0 in /usr/local/lib/python3.12/dist-packages (from jupyter-book) (1.0.0)\n",
            "Requirement already satisfied: sphinx-multitoc-numbering~=0.1 in /usr/local/lib/python3.12/dist-packages (from jupyter-book) (0.1.3)\n",
            "Requirement already satisfied: sphinx-thebe~=0.3 in /usr/local/lib/python3.12/dist-packages (from jupyter-book) (0.3.1)\n",
            "Requirement already satisfied: sphinx-togglebutton~=0.3 in /usr/local/lib/python3.12/dist-packages (from jupyter-book) (0.3.2)\n",
            "Requirement already satisfied: sphinxcontrib-bibtex~=2.5 in /usr/local/lib/python3.12/dist-packages (from jupyter-book) (2.6.5)\n",
            "Requirement already satisfied: sphinx~=7.0 in /usr/local/lib/python3.12/dist-packages (from jupyter-book) (7.4.7)\n",
            "Requirement already satisfied: contourpy>=1.0.1 in /usr/local/lib/python3.12/dist-packages (from matplotlib) (1.3.3)\n",
            "Requirement already satisfied: cycler>=0.10 in /usr/local/lib/python3.12/dist-packages (from matplotlib) (0.12.1)\n",
            "Requirement already satisfied: fonttools>=4.22.0 in /usr/local/lib/python3.12/dist-packages (from matplotlib) (4.60.1)\n",
            "Requirement already satisfied: kiwisolver>=1.3.1 in /usr/local/lib/python3.12/dist-packages (from matplotlib) (1.4.9)\n",
            "Requirement already satisfied: packaging>=20.0 in /usr/local/lib/python3.12/dist-packages (from matplotlib) (25.0)\n",
            "Requirement already satisfied: pillow>=8 in /usr/local/lib/python3.12/dist-packages (from matplotlib) (11.3.0)\n",
            "Requirement already satisfied: pyparsing>=2.3.1 in /usr/local/lib/python3.12/dist-packages (from matplotlib) (3.2.5)\n",
            "Requirement already satisfied: python-dateutil>=2.7 in /usr/local/lib/python3.12/dist-packages (from matplotlib) (2.9.0.post0)\n",
            "Requirement already satisfied: setuptools>=18.5 in /usr/local/lib/python3.12/dist-packages (from ipython!=8.7.0) (75.2.0)\n",
            "Requirement already satisfied: jedi>=0.16 in /usr/local/lib/python3.12/dist-packages (from ipython!=8.7.0) (0.19.2)\n",
            "Requirement already satisfied: decorator in /usr/local/lib/python3.12/dist-packages (from ipython!=8.7.0) (4.4.2)\n",
            "Requirement already satisfied: pickleshare in /usr/local/lib/python3.12/dist-packages (from ipython!=8.7.0) (0.7.5)\n",
            "Requirement already satisfied: traitlets>=4.2 in /usr/local/lib/python3.12/dist-packages (from ipython!=8.7.0) (5.7.1)\n",
            "Requirement already satisfied: prompt-toolkit!=3.0.0,!=3.0.1,<3.1.0,>=2.0.0 in /usr/local/lib/python3.12/dist-packages (from ipython!=8.7.0) (3.0.52)\n",
            "Requirement already satisfied: pygments in /usr/local/lib/python3.12/dist-packages (from ipython!=8.7.0) (2.19.2)\n",
            "Requirement already satisfied: backcall in /usr/local/lib/python3.12/dist-packages (from ipython!=8.7.0) (0.2.0)\n",
            "Requirement already satisfied: matplotlib-inline in /usr/local/lib/python3.12/dist-packages (from ipython!=8.7.0) (0.2.1)\n",
            "Requirement already satisfied: pexpect>4.3 in /usr/local/lib/python3.12/dist-packages (from ipython!=8.7.0) (4.9.0)\n",
            "Requirement already satisfied: ml_dtypes>=0.5.0 in /usr/local/lib/python3.12/dist-packages (from jax) (0.5.3)\n",
            "Requirement already satisfied: opt_einsum in /usr/local/lib/python3.12/dist-packages (from jax) (3.4.0)\n",
            "Requirement already satisfied: scipy>=1.13 in /usr/local/lib/python3.12/dist-packages (from jax) (1.16.3)\n",
            "Requirement already satisfied: pytz>=2020.1 in /usr/local/lib/python3.12/dist-packages (from pandas) (2025.2)\n",
            "Requirement already satisfied: tzdata>=2022.7 in /usr/local/lib/python3.12/dist-packages (from pandas) (2025.2)\n",
            "Requirement already satisfied: absl-py>=1.0.0 in /usr/local/lib/python3.12/dist-packages (from tensorflow>=2.7) (1.4.0)\n",
            "Requirement already satisfied: astunparse>=1.6.0 in /usr/local/lib/python3.12/dist-packages (from tensorflow>=2.7) (1.6.3)\n",
            "Requirement already satisfied: flatbuffers>=24.3.25 in /usr/local/lib/python3.12/dist-packages (from tensorflow>=2.7) (25.9.23)\n",
            "Requirement already satisfied: gast!=0.5.0,!=0.5.1,!=0.5.2,>=0.2.1 in /usr/local/lib/python3.12/dist-packages (from tensorflow>=2.7) (0.6.0)\n",
            "Requirement already satisfied: google-pasta>=0.1.1 in /usr/local/lib/python3.12/dist-packages (from tensorflow>=2.7) (0.2.0)\n",
            "Requirement already satisfied: libclang>=13.0.0 in /usr/local/lib/python3.12/dist-packages (from tensorflow>=2.7) (18.1.1)\n",
            "Requirement already satisfied: protobuf!=4.21.0,!=4.21.1,!=4.21.2,!=4.21.3,!=4.21.4,!=4.21.5,<6.0.0dev,>=3.20.3 in /usr/local/lib/python3.12/dist-packages (from tensorflow>=2.7) (5.29.5)\n",
            "Requirement already satisfied: requests<3,>=2.21.0 in /usr/local/lib/python3.12/dist-packages (from tensorflow>=2.7) (2.32.4)\n",
            "Requirement already satisfied: six>=1.12.0 in /usr/local/lib/python3.12/dist-packages (from tensorflow>=2.7) (1.17.0)\n",
            "Requirement already satisfied: termcolor>=1.1.0 in /usr/local/lib/python3.12/dist-packages (from tensorflow>=2.7) (3.2.0)\n",
            "Requirement already satisfied: typing-extensions>=3.6.6 in /usr/local/lib/python3.12/dist-packages (from tensorflow>=2.7) (4.15.0)\n",
            "Requirement already satisfied: wrapt>=1.11.0 in /usr/local/lib/python3.12/dist-packages (from tensorflow>=2.7) (2.0.0)\n",
            "Requirement already satisfied: grpcio<2.0,>=1.24.3 in /usr/local/lib/python3.12/dist-packages (from tensorflow>=2.7) (1.76.0)\n",
            "Requirement already satisfied: tensorboard~=2.19.0 in /usr/local/lib/python3.12/dist-packages (from tensorflow>=2.7) (2.19.0)\n",
            "Requirement already satisfied: keras>=3.5.0 in /usr/local/lib/python3.12/dist-packages (from tensorflow>=2.7) (3.10.0)\n",
            "Requirement already satisfied: h5py>=3.11.0 in /usr/local/lib/python3.12/dist-packages (from tensorflow>=2.7) (3.15.1)\n",
            "Requirement already satisfied: joblib>=1.2.0 in /usr/local/lib/python3.12/dist-packages (from scikit-learn) (1.5.2)\n",
            "Requirement already satisfied: threadpoolctl>=3.1.0 in /usr/local/lib/python3.12/dist-packages (from scikit-learn) (3.6.0)\n",
            "Requirement already satisfied: wheel<1.0,>=0.23.0 in /usr/local/lib/python3.12/dist-packages (from astunparse>=1.6.0->tensorflow>=2.7) (0.45.1)\n",
            "Requirement already satisfied: parso<0.9.0,>=0.8.4 in /usr/local/lib/python3.12/dist-packages (from jedi>=0.16->ipython!=8.7.0) (0.8.5)\n",
            "Requirement already satisfied: attrs>=22.2.0 in /usr/local/lib/python3.12/dist-packages (from jsonschema<5->jupyter-book) (25.4.0)\n",
            "Requirement already satisfied: jsonschema-specifications>=2023.03.6 in /usr/local/lib/python3.12/dist-packages (from jsonschema<5->jupyter-book) (2025.9.1)\n",
            "Requirement already satisfied: referencing>=0.28.4 in /usr/local/lib/python3.12/dist-packages (from jsonschema<5->jupyter-book) (0.37.0)\n",
            "Requirement already satisfied: rpds-py>=0.7.1 in /usr/local/lib/python3.12/dist-packages (from jsonschema<5->jupyter-book) (0.28.0)\n",
            "Requirement already satisfied: rich in /usr/local/lib/python3.12/dist-packages (from keras>=3.5.0->tensorflow>=2.7) (13.9.4)\n",
            "Requirement already satisfied: namex in /usr/local/lib/python3.12/dist-packages (from keras>=3.5.0->tensorflow>=2.7) (0.1.0)\n",
            "Requirement already satisfied: optree in /usr/local/lib/python3.12/dist-packages (from keras>=3.5.0->tensorflow>=2.7) (0.17.0)\n",
            "Requirement already satisfied: uc-micro-py in /usr/local/lib/python3.12/dist-packages (from linkify-it-py<3,>=2->jupyter-book) (1.0.3)\n",
            "Requirement already satisfied: importlib_metadata in /usr/local/lib/python3.12/dist-packages (from myst-nb~=1.0->jupyter-book) (8.7.0)\n",
            "Requirement already satisfied: jupyter-cache>=0.5 in /usr/local/lib/python3.12/dist-packages (from myst-nb~=1.0->jupyter-book) (1.0.1)\n",
            "Requirement already satisfied: nbclient in /usr/local/lib/python3.12/dist-packages (from myst-nb~=1.0->jupyter-book) (0.10.2)\n",
            "Requirement already satisfied: nbformat>=5.0 in /usr/local/lib/python3.12/dist-packages (from myst-nb~=1.0->jupyter-book) (5.10.4)\n",
            "Requirement already satisfied: ipykernel in /usr/local/lib/python3.12/dist-packages (from myst-nb~=1.0->jupyter-book) (6.17.1)\n",
            "Requirement already satisfied: docutils<0.22,>=0.18 in /usr/local/lib/python3.12/dist-packages (from myst-parser~=3.0->jupyter-book) (0.21.2)\n",
            "Requirement already satisfied: markdown-it-py~=3.0 in /usr/local/lib/python3.12/dist-packages (from myst-parser~=3.0->jupyter-book) (3.0.0)\n",
            "Requirement already satisfied: mdit-py-plugins~=0.4 in /usr/local/lib/python3.12/dist-packages (from myst-parser~=3.0->jupyter-book) (0.5.0)\n",
            "Requirement already satisfied: ptyprocess>=0.5 in /usr/local/lib/python3.12/dist-packages (from pexpect>4.3->ipython!=8.7.0) (0.7.0)\n",
            "Requirement already satisfied: wcwidth in /usr/local/lib/python3.12/dist-packages (from prompt-toolkit!=3.0.0,!=3.0.1,<3.1.0,>=2.0.0->ipython!=8.7.0) (0.2.14)\n",
            "Requirement already satisfied: charset_normalizer<4,>=2 in /usr/local/lib/python3.12/dist-packages (from requests<3,>=2.21.0->tensorflow>=2.7) (3.4.4)\n",
            "Requirement already satisfied: idna<4,>=2.5 in /usr/local/lib/python3.12/dist-packages (from requests<3,>=2.21.0->tensorflow>=2.7) (3.11)\n",
            "Requirement already satisfied: urllib3<3,>=1.21.1 in /usr/local/lib/python3.12/dist-packages (from requests<3,>=2.21.0->tensorflow>=2.7) (2.5.0)\n",
            "Requirement already satisfied: certifi>=2017.4.17 in /usr/local/lib/python3.12/dist-packages (from requests<3,>=2.21.0->tensorflow>=2.7) (2025.10.5)\n",
            "Requirement already satisfied: sphinxcontrib-applehelp in /usr/local/lib/python3.12/dist-packages (from sphinx~=7.0->jupyter-book) (2.0.0)\n",
            "Requirement already satisfied: sphinxcontrib-devhelp in /usr/local/lib/python3.12/dist-packages (from sphinx~=7.0->jupyter-book) (2.0.0)\n",
            "Requirement already satisfied: sphinxcontrib-jsmath in /usr/local/lib/python3.12/dist-packages (from sphinx~=7.0->jupyter-book) (1.0.1)\n",
            "Requirement already satisfied: sphinxcontrib-htmlhelp>=2.0.0 in /usr/local/lib/python3.12/dist-packages (from sphinx~=7.0->jupyter-book) (2.1.0)\n",
            "Requirement already satisfied: sphinxcontrib-serializinghtml>=1.1.9 in /usr/local/lib/python3.12/dist-packages (from sphinx~=7.0->jupyter-book) (2.0.0)\n",
            "Requirement already satisfied: sphinxcontrib-qthelp in /usr/local/lib/python3.12/dist-packages (from sphinx~=7.0->jupyter-book) (2.0.0)\n",
            "Requirement already satisfied: snowballstemmer>=2.2 in /usr/local/lib/python3.12/dist-packages (from sphinx~=7.0->jupyter-book) (3.0.1)\n",
            "Requirement already satisfied: babel>=2.13 in /usr/local/lib/python3.12/dist-packages (from sphinx~=7.0->jupyter-book) (2.17.0)\n",
            "Requirement already satisfied: alabaster~=0.7.14 in /usr/local/lib/python3.12/dist-packages (from sphinx~=7.0->jupyter-book) (0.7.16)\n",
            "Requirement already satisfied: imagesize>=1.3 in /usr/local/lib/python3.12/dist-packages (from sphinx~=7.0->jupyter-book) (1.4.1)\n",
            "Requirement already satisfied: MarkupSafe>=2.0 in /usr/local/lib/python3.12/dist-packages (from jinja2->jupyter-book) (3.0.3)\n",
            "Requirement already satisfied: pydata-sphinx-theme==0.15.4 in /usr/local/lib/python3.12/dist-packages (from sphinx-book-theme~=1.1->jupyter-book) (0.15.4)\n",
            "Requirement already satisfied: beautifulsoup4 in /usr/local/lib/python3.12/dist-packages (from pydata-sphinx-theme==0.15.4->sphinx-book-theme~=1.1->jupyter-book) (4.13.5)\n",
            "Requirement already satisfied: accessible-pygments in /usr/local/lib/python3.12/dist-packages (from pydata-sphinx-theme==0.15.4->sphinx-book-theme~=1.1->jupyter-book) (0.0.5)\n",
            "Requirement already satisfied: pybtex>=0.25 in /usr/local/lib/python3.12/dist-packages (from sphinxcontrib-bibtex~=2.5->jupyter-book) (0.25.1)\n",
            "Requirement already satisfied: pybtex-docutils>=1.0.0 in /usr/local/lib/python3.12/dist-packages (from sphinxcontrib-bibtex~=2.5->jupyter-book) (1.0.3)\n",
            "Requirement already satisfied: markdown>=2.6.8 in /usr/local/lib/python3.12/dist-packages (from tensorboard~=2.19.0->tensorflow>=2.7) (3.9)\n",
            "Requirement already satisfied: tensorboard-data-server<0.8.0,>=0.7.0 in /usr/local/lib/python3.12/dist-packages (from tensorboard~=2.19.0->tensorflow>=2.7) (0.7.2)\n",
            "Requirement already satisfied: werkzeug>=1.0.1 in /usr/local/lib/python3.12/dist-packages (from tensorboard~=2.19.0->tensorflow>=2.7) (3.1.3)\n",
            "Requirement already satisfied: sqlalchemy<3,>=1.3.12 in /usr/local/lib/python3.12/dist-packages (from jupyter-cache>=0.5->myst-nb~=1.0->jupyter-book) (2.0.44)\n",
            "Requirement already satisfied: mdurl~=0.1 in /usr/local/lib/python3.12/dist-packages (from markdown-it-py~=3.0->myst-parser~=3.0->jupyter-book) (0.1.2)\n",
            "Requirement already satisfied: jupyter-client>=6.1.12 in /usr/local/lib/python3.12/dist-packages (from nbclient->myst-nb~=1.0->jupyter-book) (7.4.9)\n",
            "Requirement already satisfied: jupyter-core!=5.0.*,>=4.12 in /usr/local/lib/python3.12/dist-packages (from nbclient->myst-nb~=1.0->jupyter-book) (5.9.1)\n",
            "Requirement already satisfied: fastjsonschema>=2.15 in /usr/local/lib/python3.12/dist-packages (from nbformat>=5.0->myst-nb~=1.0->jupyter-book) (2.21.2)\n",
            "Requirement already satisfied: latexcodec>=1.0.4 in /usr/local/lib/python3.12/dist-packages (from pybtex>=0.25->sphinxcontrib-bibtex~=2.5->jupyter-book) (3.0.1)\n",
            "Requirement already satisfied: zipp>=3.20 in /usr/local/lib/python3.12/dist-packages (from importlib_metadata->myst-nb~=1.0->jupyter-book) (3.23.0)\n",
            "Requirement already satisfied: debugpy>=1.0 in /usr/local/lib/python3.12/dist-packages (from ipykernel->myst-nb~=1.0->jupyter-book) (1.8.15)\n",
            "Requirement already satisfied: nest-asyncio in /usr/local/lib/python3.12/dist-packages (from ipykernel->myst-nb~=1.0->jupyter-book) (1.6.0)\n",
            "Requirement already satisfied: psutil in /usr/local/lib/python3.12/dist-packages (from ipykernel->myst-nb~=1.0->jupyter-book) (5.9.5)\n",
            "Requirement already satisfied: pyzmq>=17 in /usr/local/lib/python3.12/dist-packages (from ipykernel->myst-nb~=1.0->jupyter-book) (26.2.1)\n",
            "Requirement already satisfied: tornado>=6.1 in /usr/local/lib/python3.12/dist-packages (from ipykernel->myst-nb~=1.0->jupyter-book) (6.5.1)\n",
            "Requirement already satisfied: entrypoints in /usr/local/lib/python3.12/dist-packages (from jupyter-client>=6.1.12->nbclient->myst-nb~=1.0->jupyter-book) (0.4)\n",
            "Requirement already satisfied: platformdirs>=2.5 in /usr/local/lib/python3.12/dist-packages (from jupyter-core!=5.0.*,>=4.12->nbclient->myst-nb~=1.0->jupyter-book) (4.5.0)\n",
            "Requirement already satisfied: greenlet>=1 in /usr/local/lib/python3.12/dist-packages (from sqlalchemy<3,>=1.3.12->jupyter-cache>=0.5->myst-nb~=1.0->jupyter-book) (3.2.4)\n",
            "Requirement already satisfied: soupsieve>1.2 in /usr/local/lib/python3.12/dist-packages (from beautifulsoup4->pydata-sphinx-theme==0.15.4->sphinx-book-theme~=1.1->jupyter-book) (2.8)\n"
          ]
        }
      ]
    },
    {
      "cell_type": "code",
      "source": [
        "!pip install pydot \"pillow>=8.3.2\" mordred[full] moviepy networkx MDAnalysis emlp tensorflow-probability dm-haiku selfies tensorflowjs exmol \"rdkit>=2022\" sympy e3nn\n",
        ""
      ],
      "metadata": {
        "colab": {
          "base_uri": "https://localhost:8080/",
          "height": 1000
        },
        "collapsed": true,
        "id": "CBngd5iOagmU",
        "outputId": "18ad3437-62a6-4a44-8a07-88711a99b759"
      },
      "execution_count": 34,
      "outputs": [
        {
          "output_type": "stream",
          "name": "stdout",
          "text": [
            "Requirement already satisfied: pydot in /usr/local/lib/python3.12/dist-packages (3.0.4)\n",
            "Requirement already satisfied: pillow>=8.3.2 in /usr/local/lib/python3.12/dist-packages (11.3.0)\n",
            "Requirement already satisfied: moviepy in /usr/local/lib/python3.12/dist-packages (1.0.3)\n",
            "Requirement already satisfied: networkx in /usr/local/lib/python3.12/dist-packages (3.5)\n",
            "Collecting MDAnalysis\n",
            "  Downloading mdanalysis-2.10.0-cp312-cp312-manylinux_2_24_x86_64.manylinux_2_28_x86_64.whl.metadata (108 kB)\n",
            "\u001b[2K     \u001b[90m━━━━━━━━━━━━━━━━━━━━━━━━━━━━━━━━━━━━━━━\u001b[0m \u001b[32m108.9/108.9 kB\u001b[0m \u001b[31m2.3 MB/s\u001b[0m eta \u001b[36m0:00:00\u001b[0m\n",
            "\u001b[?25hCollecting emlp\n",
            "  Downloading emlp-1.0.3.tar.gz (44 kB)\n",
            "\u001b[2K     \u001b[90m━━━━━━━━━━━━━━━━━━━━━━━━━━━━━━━━━━━━━━━━\u001b[0m \u001b[32m44.9/44.9 kB\u001b[0m \u001b[31m1.9 MB/s\u001b[0m eta \u001b[36m0:00:00\u001b[0m\n",
            "\u001b[?25h  Preparing metadata (setup.py) ... \u001b[?25l\u001b[?25hdone\n",
            "Requirement already satisfied: tensorflow-probability in /usr/local/lib/python3.12/dist-packages (0.25.0)\n",
            "Collecting dm-haiku\n",
            "  Downloading dm_haiku-0.0.15-py3-none-any.whl.metadata (19 kB)\n",
            "Collecting selfies\n",
            "  Downloading selfies-2.2.0-py3-none-any.whl.metadata (14 kB)\n",
            "Collecting tensorflowjs\n",
            "  Downloading tensorflowjs-4.22.0-py3-none-any.whl.metadata (3.2 kB)\n",
            "Collecting exmol\n",
            "  Downloading exmol-3.3.0-py3-none-any.whl.metadata (12 kB)\n",
            "Collecting rdkit>=2022\n",
            "  Downloading rdkit-2025.9.1-cp312-cp312-manylinux_2_28_x86_64.whl.metadata (4.1 kB)\n",
            "Requirement already satisfied: sympy in /usr/local/lib/python3.12/dist-packages (1.13.3)\n",
            "Collecting e3nn\n",
            "  Downloading e3nn-0.5.8-py3-none-any.whl.metadata (6.0 kB)\n",
            "Collecting mordred[full]\n",
            "  Downloading mordred-1.2.0.tar.gz (128 kB)\n",
            "\u001b[2K     \u001b[90m━━━━━━━━━━━━━━━━━━━━━━━━━━━━━━━━━━━━━━━\u001b[0m \u001b[32m128.8/128.8 kB\u001b[0m \u001b[31m6.3 MB/s\u001b[0m eta \u001b[36m0:00:00\u001b[0m\n",
            "\u001b[?25h  Preparing metadata (setup.py) ... \u001b[?25l\u001b[?25hdone\n",
            "Requirement already satisfied: pyparsing>=3.0.9 in /usr/local/lib/python3.12/dist-packages (from pydot) (3.2.5)\n",
            "Requirement already satisfied: six==1.* in /usr/local/lib/python3.12/dist-packages (from mordred[full]) (1.17.0)\n",
            "Collecting numpy==1.* (from mordred[full])\n",
            "  Downloading numpy-1.26.4-cp312-cp312-manylinux_2_17_x86_64.manylinux2014_x86_64.whl.metadata (61 kB)\n",
            "\u001b[2K     \u001b[90m━━━━━━━━━━━━━━━━━━━━━━━━━━━━━━━━━━━━━━━━\u001b[0m \u001b[32m61.0/61.0 kB\u001b[0m \u001b[31m4.0 MB/s\u001b[0m eta \u001b[36m0:00:00\u001b[0m\n",
            "\u001b[?25hCollecting networkx\n",
            "  Downloading networkx-2.8.8-py3-none-any.whl.metadata (5.1 kB)\n",
            "Requirement already satisfied: pandas in /usr/local/lib/python3.12/dist-packages (from mordred[full]) (2.2.2)\n",
            "Requirement already satisfied: tqdm in /usr/local/lib/python3.12/dist-packages (from mordred[full]) (4.67.1)\n",
            "Requirement already satisfied: decorator<5.0,>=4.0.2 in /usr/local/lib/python3.12/dist-packages (from moviepy) (4.4.2)\n",
            "Requirement already satisfied: requests<3.0,>=2.8.1 in /usr/local/lib/python3.12/dist-packages (from moviepy) (2.32.4)\n",
            "Requirement already satisfied: proglog<=1.0.0 in /usr/local/lib/python3.12/dist-packages (from moviepy) (0.1.12)\n",
            "Requirement already satisfied: imageio<3.0,>=2.5 in /usr/local/lib/python3.12/dist-packages (from moviepy) (2.37.0)\n",
            "Requirement already satisfied: imageio-ffmpeg>=0.2.0 in /usr/local/lib/python3.12/dist-packages (from moviepy) (0.6.0)\n",
            "Collecting GridDataFormats>=0.4.0 (from MDAnalysis)\n",
            "  Downloading GridDataFormats-1.0.2-py3-none-any.whl.metadata (4.9 kB)\n",
            "Collecting mmtf-python>=1.0.0 (from MDAnalysis)\n",
            "  Downloading mmtf_python-1.1.3-py2.py3-none-any.whl.metadata (1.2 kB)\n",
            "Requirement already satisfied: joblib>=0.12 in /usr/local/lib/python3.12/dist-packages (from MDAnalysis) (1.5.2)\n",
            "Requirement already satisfied: scipy>=1.5.0 in /usr/local/lib/python3.12/dist-packages (from MDAnalysis) (1.16.3)\n",
            "Requirement already satisfied: matplotlib>=1.5.1 in /usr/local/lib/python3.12/dist-packages (from MDAnalysis) (3.10.0)\n",
            "Requirement already satisfied: threadpoolctl in /usr/local/lib/python3.12/dist-packages (from MDAnalysis) (3.6.0)\n",
            "Requirement already satisfied: packaging in /usr/local/lib/python3.12/dist-packages (from MDAnalysis) (25.0)\n",
            "Requirement already satisfied: filelock in /usr/local/lib/python3.12/dist-packages (from MDAnalysis) (3.20.0)\n",
            "Collecting mda-xdrlib (from MDAnalysis)\n",
            "  Downloading mda_xdrlib-0.2.0-py3-none-any.whl.metadata (19 kB)\n",
            "Requirement already satisfied: h5py in /usr/local/lib/python3.12/dist-packages (from emlp) (3.15.1)\n",
            "Collecting objax (from emlp)\n",
            "  Downloading objax-1.8.0-py3-none-any.whl.metadata (4.2 kB)\n",
            "Requirement already satisfied: pytest in /usr/local/lib/python3.12/dist-packages (from emlp) (8.4.2)\n",
            "Requirement already satisfied: plum-dispatch in /usr/local/lib/python3.12/dist-packages (from emlp) (2.6.0)\n",
            "Requirement already satisfied: optax in /usr/local/lib/python3.12/dist-packages (from emlp) (0.2.6)\n",
            "Requirement already satisfied: scikit-learn in /usr/local/lib/python3.12/dist-packages (from emlp) (1.6.1)\n",
            "Requirement already satisfied: absl-py in /usr/local/lib/python3.12/dist-packages (from tensorflow-probability) (1.4.0)\n",
            "Requirement already satisfied: cloudpickle>=1.3 in /usr/local/lib/python3.12/dist-packages (from tensorflow-probability) (3.1.1)\n",
            "Requirement already satisfied: gast>=0.3.2 in /usr/local/lib/python3.12/dist-packages (from tensorflow-probability) (0.6.0)\n",
            "Requirement already satisfied: dm-tree in /usr/local/lib/python3.12/dist-packages (from tensorflow-probability) (0.1.9)\n",
            "Collecting jmp>=0.0.2 (from dm-haiku)\n",
            "  Downloading jmp-0.0.4-py3-none-any.whl.metadata (8.9 kB)\n",
            "Requirement already satisfied: tabulate>=0.8.9 in /usr/local/lib/python3.12/dist-packages (from dm-haiku) (0.9.0)\n",
            "Requirement already satisfied: flax>=0.7.2 in /usr/local/lib/python3.12/dist-packages (from tensorflowjs) (0.10.7)\n",
            "Requirement already satisfied: importlib_resources>=5.9.0 in /usr/local/lib/python3.12/dist-packages (from tensorflowjs) (6.5.2)\n",
            "Requirement already satisfied: jax>=0.4.13 in /usr/local/lib/python3.12/dist-packages (from tensorflowjs) (0.7.2)\n",
            "Requirement already satisfied: jaxlib>=0.4.13 in /usr/local/lib/python3.12/dist-packages (from tensorflowjs) (0.7.2)\n",
            "Requirement already satisfied: tensorflow<3,>=2.13.0 in /usr/local/lib/python3.12/dist-packages (from tensorflowjs) (2.19.0)\n",
            "Requirement already satisfied: tf-keras>=2.13.0 in /usr/local/lib/python3.12/dist-packages (from tensorflowjs) (2.19.0)\n",
            "Requirement already satisfied: tensorflow-decision-forests>=1.5.0 in /usr/local/lib/python3.12/dist-packages (from tensorflowjs) (1.12.0)\n",
            "Requirement already satisfied: tensorflow-hub>=0.16.1 in /usr/local/lib/python3.12/dist-packages (from tensorflowjs) (0.16.1)\n",
            "Collecting packaging (from MDAnalysis)\n",
            "  Downloading packaging-23.2-py3-none-any.whl.metadata (3.2 kB)\n",
            "Collecting ratelimit (from exmol)\n",
            "  Downloading ratelimit-2.2.1.tar.gz (5.3 kB)\n",
            "  Preparing metadata (setup.py) ... \u001b[?25l\u001b[?25hdone\n",
            "Collecting skunk>=0.4.0 (from exmol)\n",
            "  Downloading skunk-1.3.0-py3-none-any.whl.metadata (4.3 kB)\n",
            "Collecting synspace (from exmol)\n",
            "  Downloading synspace-1.0.0-py3-none-any.whl.metadata (2.7 kB)\n",
            "Requirement already satisfied: openai in /usr/local/lib/python3.12/dist-packages (from exmol) (1.109.1)\n",
            "Requirement already satisfied: mpmath<1.4,>=1.1.0 in /usr/local/lib/python3.12/dist-packages (from sympy) (1.3.0)\n",
            "Requirement already satisfied: torch>=1.8.0 in /usr/local/lib/python3.12/dist-packages (from e3nn) (2.8.0+cu126)\n",
            "Collecting opt_einsum_fx>=0.1.4 (from e3nn)\n",
            "  Downloading opt_einsum_fx-0.1.4-py3-none-any.whl.metadata (3.3 kB)\n",
            "Requirement already satisfied: msgpack in /usr/local/lib/python3.12/dist-packages (from flax>=0.7.2->tensorflowjs) (1.1.2)\n",
            "Requirement already satisfied: orbax-checkpoint in /usr/local/lib/python3.12/dist-packages (from flax>=0.7.2->tensorflowjs) (0.11.26)\n",
            "Requirement already satisfied: tensorstore in /usr/local/lib/python3.12/dist-packages (from flax>=0.7.2->tensorflowjs) (0.1.78)\n",
            "Requirement already satisfied: rich>=11.1 in /usr/local/lib/python3.12/dist-packages (from flax>=0.7.2->tensorflowjs) (13.9.4)\n",
            "Requirement already satisfied: typing_extensions>=4.2 in /usr/local/lib/python3.12/dist-packages (from flax>=0.7.2->tensorflowjs) (4.15.0)\n",
            "Requirement already satisfied: PyYAML>=5.4.1 in /usr/local/lib/python3.12/dist-packages (from flax>=0.7.2->tensorflowjs) (6.0.3)\n",
            "Requirement already satisfied: treescope>=0.1.7 in /usr/local/lib/python3.12/dist-packages (from flax>=0.7.2->tensorflowjs) (0.1.10)\n",
            "Collecting mrcfile (from GridDataFormats>=0.4.0->MDAnalysis)\n",
            "  Downloading mrcfile-1.5.4-py2.py3-none-any.whl.metadata (7.0 kB)\n",
            "Requirement already satisfied: ml_dtypes>=0.5.0 in /usr/local/lib/python3.12/dist-packages (from jax>=0.4.13->tensorflowjs) (0.5.3)\n",
            "INFO: pip is looking at multiple versions of jax to determine which version is compatible with other requirements. This could take a while.\n",
            "Collecting jax>=0.4.13 (from tensorflowjs)\n",
            "  Downloading jax-0.8.0-py3-none-any.whl.metadata (13 kB)\n",
            "Collecting jaxlib>=0.4.13 (from tensorflowjs)\n",
            "  Downloading jaxlib-0.8.0-cp312-cp312-manylinux_2_27_x86_64.whl.metadata (1.3 kB)\n",
            "Collecting jax>=0.4.13 (from tensorflowjs)\n",
            "  Downloading jax-0.7.1-py3-none-any.whl.metadata (13 kB)\n",
            "Collecting jaxlib>=0.4.13 (from tensorflowjs)\n",
            "  Downloading jaxlib-0.7.1-cp312-cp312-manylinux_2_27_x86_64.whl.metadata (1.3 kB)\n",
            "Requirement already satisfied: opt_einsum in /usr/local/lib/python3.12/dist-packages (from jax>=0.4.13->tensorflowjs) (3.4.0)\n",
            "Requirement already satisfied: contourpy>=1.0.1 in /usr/local/lib/python3.12/dist-packages (from matplotlib>=1.5.1->MDAnalysis) (1.3.3)\n",
            "Requirement already satisfied: cycler>=0.10 in /usr/local/lib/python3.12/dist-packages (from matplotlib>=1.5.1->MDAnalysis) (0.12.1)\n",
            "Requirement already satisfied: fonttools>=4.22.0 in /usr/local/lib/python3.12/dist-packages (from matplotlib>=1.5.1->MDAnalysis) (4.60.1)\n",
            "Requirement already satisfied: kiwisolver>=1.3.1 in /usr/local/lib/python3.12/dist-packages (from matplotlib>=1.5.1->MDAnalysis) (1.4.9)\n",
            "Requirement already satisfied: python-dateutil>=2.7 in /usr/local/lib/python3.12/dist-packages (from matplotlib>=1.5.1->MDAnalysis) (2.9.0.post0)\n",
            "Requirement already satisfied: charset_normalizer<4,>=2 in /usr/local/lib/python3.12/dist-packages (from requests<3.0,>=2.8.1->moviepy) (3.4.4)\n",
            "Requirement already satisfied: idna<4,>=2.5 in /usr/local/lib/python3.12/dist-packages (from requests<3.0,>=2.8.1->moviepy) (3.11)\n",
            "Requirement already satisfied: urllib3<3,>=1.21.1 in /usr/local/lib/python3.12/dist-packages (from requests<3.0,>=2.8.1->moviepy) (2.5.0)\n",
            "Requirement already satisfied: certifi>=2017.4.17 in /usr/local/lib/python3.12/dist-packages (from requests<3.0,>=2.8.1->moviepy) (2025.10.5)\n",
            "Requirement already satisfied: astunparse>=1.6.0 in /usr/local/lib/python3.12/dist-packages (from tensorflow<3,>=2.13.0->tensorflowjs) (1.6.3)\n",
            "Requirement already satisfied: flatbuffers>=24.3.25 in /usr/local/lib/python3.12/dist-packages (from tensorflow<3,>=2.13.0->tensorflowjs) (25.9.23)\n",
            "Requirement already satisfied: google-pasta>=0.1.1 in /usr/local/lib/python3.12/dist-packages (from tensorflow<3,>=2.13.0->tensorflowjs) (0.2.0)\n",
            "Requirement already satisfied: libclang>=13.0.0 in /usr/local/lib/python3.12/dist-packages (from tensorflow<3,>=2.13.0->tensorflowjs) (18.1.1)\n",
            "Requirement already satisfied: protobuf!=4.21.0,!=4.21.1,!=4.21.2,!=4.21.3,!=4.21.4,!=4.21.5,<6.0.0dev,>=3.20.3 in /usr/local/lib/python3.12/dist-packages (from tensorflow<3,>=2.13.0->tensorflowjs) (5.29.5)\n",
            "Requirement already satisfied: setuptools in /usr/local/lib/python3.12/dist-packages (from tensorflow<3,>=2.13.0->tensorflowjs) (75.2.0)\n",
            "Requirement already satisfied: termcolor>=1.1.0 in /usr/local/lib/python3.12/dist-packages (from tensorflow<3,>=2.13.0->tensorflowjs) (3.2.0)\n",
            "Requirement already satisfied: wrapt>=1.11.0 in /usr/local/lib/python3.12/dist-packages (from tensorflow<3,>=2.13.0->tensorflowjs) (2.0.0)\n",
            "Requirement already satisfied: grpcio<2.0,>=1.24.3 in /usr/local/lib/python3.12/dist-packages (from tensorflow<3,>=2.13.0->tensorflowjs) (1.76.0)\n",
            "Requirement already satisfied: tensorboard~=2.19.0 in /usr/local/lib/python3.12/dist-packages (from tensorflow<3,>=2.13.0->tensorflowjs) (2.19.0)\n",
            "Requirement already satisfied: keras>=3.5.0 in /usr/local/lib/python3.12/dist-packages (from tensorflow<3,>=2.13.0->tensorflowjs) (3.10.0)\n",
            "Requirement already satisfied: wheel in /usr/local/lib/python3.12/dist-packages (from tensorflow-decision-forests>=1.5.0->tensorflowjs) (0.45.1)\n",
            "Requirement already satisfied: wurlitzer in /usr/local/lib/python3.12/dist-packages (from tensorflow-decision-forests>=1.5.0->tensorflowjs) (3.1.1)\n",
            "Requirement already satisfied: ydf>=0.11.0 in /usr/local/lib/python3.12/dist-packages (from tensorflow-decision-forests>=1.5.0->tensorflowjs) (0.13.0)\n",
            "Requirement already satisfied: jinja2 in /usr/local/lib/python3.12/dist-packages (from torch>=1.8.0->e3nn) (3.1.6)\n",
            "Requirement already satisfied: fsspec in /usr/local/lib/python3.12/dist-packages (from torch>=1.8.0->e3nn) (2025.3.0)\n",
            "Requirement already satisfied: nvidia-cuda-nvrtc-cu12==12.6.77 in /usr/local/lib/python3.12/dist-packages (from torch>=1.8.0->e3nn) (12.6.77)\n",
            "Requirement already satisfied: nvidia-cuda-runtime-cu12==12.6.77 in /usr/local/lib/python3.12/dist-packages (from torch>=1.8.0->e3nn) (12.6.77)\n",
            "Requirement already satisfied: nvidia-cuda-cupti-cu12==12.6.80 in /usr/local/lib/python3.12/dist-packages (from torch>=1.8.0->e3nn) (12.6.80)\n",
            "Requirement already satisfied: nvidia-cudnn-cu12==9.10.2.21 in /usr/local/lib/python3.12/dist-packages (from torch>=1.8.0->e3nn) (9.10.2.21)\n",
            "Requirement already satisfied: nvidia-cublas-cu12==12.6.4.1 in /usr/local/lib/python3.12/dist-packages (from torch>=1.8.0->e3nn) (12.6.4.1)\n",
            "Requirement already satisfied: nvidia-cufft-cu12==11.3.0.4 in /usr/local/lib/python3.12/dist-packages (from torch>=1.8.0->e3nn) (11.3.0.4)\n",
            "Requirement already satisfied: nvidia-curand-cu12==10.3.7.77 in /usr/local/lib/python3.12/dist-packages (from torch>=1.8.0->e3nn) (10.3.7.77)\n",
            "Requirement already satisfied: nvidia-cusolver-cu12==11.7.1.2 in /usr/local/lib/python3.12/dist-packages (from torch>=1.8.0->e3nn) (11.7.1.2)\n",
            "Requirement already satisfied: nvidia-cusparse-cu12==12.5.4.2 in /usr/local/lib/python3.12/dist-packages (from torch>=1.8.0->e3nn) (12.5.4.2)\n",
            "Requirement already satisfied: nvidia-cusparselt-cu12==0.7.1 in /usr/local/lib/python3.12/dist-packages (from torch>=1.8.0->e3nn) (0.7.1)\n",
            "Requirement already satisfied: nvidia-nccl-cu12==2.27.3 in /usr/local/lib/python3.12/dist-packages (from torch>=1.8.0->e3nn) (2.27.3)\n",
            "Requirement already satisfied: nvidia-nvtx-cu12==12.6.77 in /usr/local/lib/python3.12/dist-packages (from torch>=1.8.0->e3nn) (12.6.77)\n",
            "Requirement already satisfied: nvidia-nvjitlink-cu12==12.6.85 in /usr/local/lib/python3.12/dist-packages (from torch>=1.8.0->e3nn) (12.6.85)\n",
            "Requirement already satisfied: nvidia-cufile-cu12==1.11.1.6 in /usr/local/lib/python3.12/dist-packages (from torch>=1.8.0->e3nn) (1.11.1.6)\n",
            "Requirement already satisfied: triton==3.4.0 in /usr/local/lib/python3.12/dist-packages (from torch>=1.8.0->e3nn) (3.4.0)\n",
            "Requirement already satisfied: attrs>=18.2.0 in /usr/local/lib/python3.12/dist-packages (from dm-tree->tensorflow-probability) (25.4.0)\n",
            "Collecting parameterized (from objax->emlp)\n",
            "  Downloading parameterized-0.9.0-py2.py3-none-any.whl.metadata (18 kB)\n",
            "Requirement already satisfied: anyio<5,>=3.5.0 in /usr/local/lib/python3.12/dist-packages (from openai->exmol) (4.11.0)\n",
            "Requirement already satisfied: distro<2,>=1.7.0 in /usr/local/lib/python3.12/dist-packages (from openai->exmol) (1.9.0)\n",
            "Requirement already satisfied: httpx<1,>=0.23.0 in /usr/local/lib/python3.12/dist-packages (from openai->exmol) (0.28.1)\n",
            "Requirement already satisfied: jiter<1,>=0.4.0 in /usr/local/lib/python3.12/dist-packages (from openai->exmol) (0.11.1)\n",
            "Requirement already satisfied: pydantic<3,>=1.9.0 in /usr/local/lib/python3.12/dist-packages (from openai->exmol) (2.11.10)\n",
            "Requirement already satisfied: sniffio in /usr/local/lib/python3.12/dist-packages (from openai->exmol) (1.3.1)\n",
            "Requirement already satisfied: chex>=0.1.87 in /usr/local/lib/python3.12/dist-packages (from optax->emlp) (0.1.90)\n",
            "Requirement already satisfied: pytz>=2020.1 in /usr/local/lib/python3.12/dist-packages (from pandas->mordred[full]) (2025.2)\n",
            "Requirement already satisfied: tzdata>=2022.7 in /usr/local/lib/python3.12/dist-packages (from pandas->mordred[full]) (2025.2)\n",
            "Requirement already satisfied: beartype>=0.16.2 in /usr/local/lib/python3.12/dist-packages (from plum-dispatch->emlp) (0.22.4)\n",
            "Requirement already satisfied: iniconfig>=1 in /usr/local/lib/python3.12/dist-packages (from pytest->emlp) (2.3.0)\n",
            "Requirement already satisfied: pluggy<2,>=1.5 in /usr/local/lib/python3.12/dist-packages (from pytest->emlp) (1.6.0)\n",
            "Requirement already satisfied: pygments>=2.7.2 in /usr/local/lib/python3.12/dist-packages (from pytest->emlp) (2.19.2)\n",
            "Requirement already satisfied: toolz>=0.9.0 in /usr/local/lib/python3.12/dist-packages (from chex>=0.1.87->optax->emlp) (0.12.1)\n",
            "Requirement already satisfied: httpcore==1.* in /usr/local/lib/python3.12/dist-packages (from httpx<1,>=0.23.0->openai->exmol) (1.0.9)\n",
            "Requirement already satisfied: h11>=0.16 in /usr/local/lib/python3.12/dist-packages (from httpcore==1.*->httpx<1,>=0.23.0->openai->exmol) (0.16.0)\n",
            "Requirement already satisfied: namex in /usr/local/lib/python3.12/dist-packages (from keras>=3.5.0->tensorflow<3,>=2.13.0->tensorflowjs) (0.1.0)\n",
            "Requirement already satisfied: optree in /usr/local/lib/python3.12/dist-packages (from keras>=3.5.0->tensorflow<3,>=2.13.0->tensorflowjs) (0.17.0)\n",
            "Requirement already satisfied: annotated-types>=0.6.0 in /usr/local/lib/python3.12/dist-packages (from pydantic<3,>=1.9.0->openai->exmol) (0.7.0)\n",
            "Requirement already satisfied: pydantic-core==2.33.2 in /usr/local/lib/python3.12/dist-packages (from pydantic<3,>=1.9.0->openai->exmol) (2.33.2)\n",
            "Requirement already satisfied: typing-inspection>=0.4.0 in /usr/local/lib/python3.12/dist-packages (from pydantic<3,>=1.9.0->openai->exmol) (0.4.2)\n",
            "Requirement already satisfied: markdown-it-py>=2.2.0 in /usr/local/lib/python3.12/dist-packages (from rich>=11.1->flax>=0.7.2->tensorflowjs) (3.0.0)\n",
            "Requirement already satisfied: markdown>=2.6.8 in /usr/local/lib/python3.12/dist-packages (from tensorboard~=2.19.0->tensorflow<3,>=2.13.0->tensorflowjs) (3.9)\n",
            "Requirement already satisfied: tensorboard-data-server<0.8.0,>=0.7.0 in /usr/local/lib/python3.12/dist-packages (from tensorboard~=2.19.0->tensorflow<3,>=2.13.0->tensorflowjs) (0.7.2)\n",
            "Requirement already satisfied: werkzeug>=1.0.1 in /usr/local/lib/python3.12/dist-packages (from tensorboard~=2.19.0->tensorflow<3,>=2.13.0->tensorflowjs) (3.1.3)\n",
            "Requirement already satisfied: MarkupSafe>=2.0 in /usr/local/lib/python3.12/dist-packages (from jinja2->torch>=1.8.0->e3nn) (3.0.3)\n",
            "Requirement already satisfied: etils[epath,epy] in /usr/local/lib/python3.12/dist-packages (from orbax-checkpoint->flax>=0.7.2->tensorflowjs) (1.13.0)\n",
            "Requirement already satisfied: nest_asyncio in /usr/local/lib/python3.12/dist-packages (from orbax-checkpoint->flax>=0.7.2->tensorflowjs) (1.6.0)\n",
            "Requirement already satisfied: aiofiles in /usr/local/lib/python3.12/dist-packages (from orbax-checkpoint->flax>=0.7.2->tensorflowjs) (24.1.0)\n",
            "Requirement already satisfied: humanize in /usr/local/lib/python3.12/dist-packages (from orbax-checkpoint->flax>=0.7.2->tensorflowjs) (4.14.0)\n",
            "Requirement already satisfied: simplejson>=3.16.0 in /usr/local/lib/python3.12/dist-packages (from orbax-checkpoint->flax>=0.7.2->tensorflowjs) (3.20.2)\n",
            "Requirement already satisfied: psutil in /usr/local/lib/python3.12/dist-packages (from orbax-checkpoint->flax>=0.7.2->tensorflowjs) (5.9.5)\n",
            "Requirement already satisfied: mdurl~=0.1 in /usr/local/lib/python3.12/dist-packages (from markdown-it-py>=2.2.0->rich>=11.1->flax>=0.7.2->tensorflowjs) (0.1.2)\n",
            "Requirement already satisfied: zipp in /usr/local/lib/python3.12/dist-packages (from etils[epath,epy]->orbax-checkpoint->flax>=0.7.2->tensorflowjs) (3.23.0)\n",
            "Downloading networkx-2.8.8-py3-none-any.whl (2.0 MB)\n",
            "\u001b[2K   \u001b[90m━━━━━━━━━━━━━━━━━━━━━━━━━━━━━━━━━━━━━━━━\u001b[0m \u001b[32m2.0/2.0 MB\u001b[0m \u001b[31m15.0 MB/s\u001b[0m eta \u001b[36m0:00:00\u001b[0m\n",
            "\u001b[?25hDownloading numpy-1.26.4-cp312-cp312-manylinux_2_17_x86_64.manylinux2014_x86_64.whl (18.0 MB)\n",
            "\u001b[2K   \u001b[90m━━━━━━━━━━━━━━━━━━━━━━━━━━━━━━━━━━━━━━━━\u001b[0m \u001b[32m18.0/18.0 MB\u001b[0m \u001b[31m58.7 MB/s\u001b[0m eta \u001b[36m0:00:00\u001b[0m\n",
            "\u001b[?25hDownloading mdanalysis-2.10.0-cp312-cp312-manylinux_2_24_x86_64.manylinux_2_28_x86_64.whl (13.3 MB)\n",
            "\u001b[2K   \u001b[90m━━━━━━━━━━━━━━━━━━━━━━━━━━━━━━━━━━━━━━━━\u001b[0m \u001b[32m13.3/13.3 MB\u001b[0m \u001b[31m71.0 MB/s\u001b[0m eta \u001b[36m0:00:00\u001b[0m\n",
            "\u001b[?25hDownloading dm_haiku-0.0.15-py3-none-any.whl (374 kB)\n",
            "\u001b[2K   \u001b[90m━━━━━━━━━━━━━━━━━━━━━━━━━━━━━━━━━━━━━━━━\u001b[0m \u001b[32m374.1/374.1 kB\u001b[0m \u001b[31m27.2 MB/s\u001b[0m eta \u001b[36m0:00:00\u001b[0m\n",
            "\u001b[?25hDownloading selfies-2.2.0-py3-none-any.whl (36 kB)\n",
            "Downloading tensorflowjs-4.22.0-py3-none-any.whl (89 kB)\n",
            "\u001b[2K   \u001b[90m━━━━━━━━━━━━━━━━━━━━━━━━━━━━━━━━━━━━━━━━\u001b[0m \u001b[32m89.1/89.1 kB\u001b[0m \u001b[31m7.2 MB/s\u001b[0m eta \u001b[36m0:00:00\u001b[0m\n",
            "\u001b[?25hDownloading exmol-3.3.0-py3-none-any.whl (4.7 MB)\n",
            "\u001b[2K   \u001b[90m━━━━━━━━━━━━━━━━━━━━━━━━━━━━━━━━━━━━━━━━\u001b[0m \u001b[32m4.7/4.7 MB\u001b[0m \u001b[31m92.6 MB/s\u001b[0m eta \u001b[36m0:00:00\u001b[0m\n",
            "\u001b[?25hDownloading rdkit-2025.9.1-cp312-cp312-manylinux_2_28_x86_64.whl (36.2 MB)\n",
            "\u001b[2K   \u001b[90m━━━━━━━━━━━━━━━━━━━━━━━━━━━━━━━━━━━━━━━━\u001b[0m \u001b[32m36.2/36.2 MB\u001b[0m \u001b[31m15.5 MB/s\u001b[0m eta \u001b[36m0:00:00\u001b[0m\n",
            "\u001b[?25hDownloading e3nn-0.5.8-py3-none-any.whl (450 kB)\n",
            "\u001b[2K   \u001b[90m━━━━━━━━━━━━━━━━━━━━━━━━━━━━━━━━━━━━━━━━\u001b[0m \u001b[32m450.1/450.1 kB\u001b[0m \u001b[31m28.3 MB/s\u001b[0m eta \u001b[36m0:00:00\u001b[0m\n",
            "\u001b[?25hDownloading GridDataFormats-1.0.2-py3-none-any.whl (2.1 MB)\n",
            "\u001b[2K   \u001b[90m━━━━━━━━━━━━━━━━━━━━━━━━━━━━━━━━━━━━━━━━\u001b[0m \u001b[32m2.1/2.1 MB\u001b[0m \u001b[31m64.3 MB/s\u001b[0m eta \u001b[36m0:00:00\u001b[0m\n",
            "\u001b[?25hDownloading jax-0.7.1-py3-none-any.whl (2.8 MB)\n",
            "\u001b[2K   \u001b[90m━━━━━━━━━━━━━━━━━━━━━━━━━━━━━━━━━━━━━━━━\u001b[0m \u001b[32m2.8/2.8 MB\u001b[0m \u001b[31m66.1 MB/s\u001b[0m eta \u001b[36m0:00:00\u001b[0m\n",
            "\u001b[?25hDownloading jaxlib-0.7.1-cp312-cp312-manylinux_2_27_x86_64.whl (81.2 MB)\n",
            "\u001b[2K   \u001b[90m━━━━━━━━━━━━━━━━━━━━━━━━━━━━━━━━━━━━━━━━\u001b[0m \u001b[32m81.2/81.2 MB\u001b[0m \u001b[31m7.4 MB/s\u001b[0m eta \u001b[36m0:00:00\u001b[0m\n",
            "\u001b[?25hDownloading jmp-0.0.4-py3-none-any.whl (18 kB)\n",
            "Downloading mmtf_python-1.1.3-py2.py3-none-any.whl (25 kB)\n",
            "Downloading opt_einsum_fx-0.1.4-py3-none-any.whl (13 kB)\n",
            "Downloading packaging-23.2-py3-none-any.whl (53 kB)\n",
            "\u001b[2K   \u001b[90m━━━━━━━━━━━━━━━━━━━━━━━━━━━━━━━━━━━━━━━━\u001b[0m \u001b[32m53.0/53.0 kB\u001b[0m \u001b[31m4.3 MB/s\u001b[0m eta \u001b[36m0:00:00\u001b[0m\n",
            "\u001b[?25hDownloading skunk-1.3.0-py3-none-any.whl (6.5 kB)\n",
            "Downloading mda_xdrlib-0.2.0-py3-none-any.whl (14 kB)\n",
            "Downloading objax-1.8.0-py3-none-any.whl (86 kB)\n",
            "\u001b[2K   \u001b[90m━━━━━━━━━━━━━━━━━━━━━━━━━━━━━━━━━━━━━━━━\u001b[0m \u001b[32m86.7/86.7 kB\u001b[0m \u001b[31m5.4 MB/s\u001b[0m eta \u001b[36m0:00:00\u001b[0m\n",
            "\u001b[?25hDownloading synspace-1.0.0-py3-none-any.whl (2.7 MB)\n",
            "\u001b[2K   \u001b[90m━━━━━━━━━━━━━━━━━━━━━━━━━━━━━━━━━━━━━━━━\u001b[0m \u001b[32m2.7/2.7 MB\u001b[0m \u001b[31m59.9 MB/s\u001b[0m eta \u001b[36m0:00:00\u001b[0m\n",
            "\u001b[?25hDownloading mrcfile-1.5.4-py2.py3-none-any.whl (45 kB)\n",
            "\u001b[2K   \u001b[90m━━━━━━━━━━━━━━━━━━━━━━━━━━━━━━━━━━━━━━━━\u001b[0m \u001b[32m45.0/45.0 kB\u001b[0m \u001b[31m2.8 MB/s\u001b[0m eta \u001b[36m0:00:00\u001b[0m\n",
            "\u001b[?25hDownloading parameterized-0.9.0-py2.py3-none-any.whl (20 kB)\n",
            "Building wheels for collected packages: emlp, mordred, ratelimit\n",
            "  Building wheel for emlp (setup.py) ... \u001b[?25l\u001b[?25hdone\n",
            "  Created wheel for emlp: filename=emlp-1.0.3-py3-none-any.whl size=48124 sha256=ae4ec7ccd213d6f71609c15ebb8de345ae426a4be187c743ca6752c04193e254\n",
            "  Stored in directory: /root/.cache/pip/wheels/a7/0d/0f/9d0ced025c981fcf5c1a01ac232d9ec6be139053f112c34852\n",
            "  Building wheel for mordred (setup.py) ... \u001b[?25l\u001b[?25hdone\n",
            "  Created wheel for mordred: filename=mordred-1.2.0-py3-none-any.whl size=176718 sha256=b221cd8d1930e87381b55c732fe36b0999c88233a898becc3ff8293e6289b151\n",
            "  Stored in directory: /root/.cache/pip/wheels/e8/79/b8/f4f1dfbb736c2b8605cf5068cd633f4d2869defb89908aef93\n",
            "  Building wheel for ratelimit (setup.py) ... \u001b[?25l\u001b[?25hdone\n",
            "  Created wheel for ratelimit: filename=ratelimit-2.2.1-py3-none-any.whl size=5893 sha256=9123cbaa10a86ebab439ae7de7d474aec96a2399797d6cff5b2f459f78b63f8f\n",
            "  Stored in directory: /root/.cache/pip/wheels/69/bd/e0/4a5dee2a1bfbc8e258f543f92940e2b494d63b5be8144ec8c4\n",
            "Successfully built emlp mordred ratelimit\n",
            "Installing collected packages: ratelimit, selfies, parameterized, packaging, numpy, networkx, mmtf-python, mda-xdrlib, rdkit, mrcfile, mordred, jmp, jaxlib, GridDataFormats, dm-haiku, skunk, opt_einsum_fx, MDAnalysis, jax, synspace, objax, e3nn, exmol, emlp, tensorflowjs\n",
            "  Attempting uninstall: packaging\n",
            "    Found existing installation: packaging 25.0\n",
            "    Uninstalling packaging-25.0:\n",
            "      Successfully uninstalled packaging-25.0\n",
            "  Attempting uninstall: numpy\n",
            "    Found existing installation: numpy 2.0.2\n",
            "    Uninstalling numpy-2.0.2:\n",
            "      Successfully uninstalled numpy-2.0.2\n",
            "  Attempting uninstall: networkx\n",
            "    Found existing installation: networkx 3.5\n",
            "    Uninstalling networkx-3.5:\n",
            "      Successfully uninstalled networkx-3.5\n",
            "  Attempting uninstall: jaxlib\n",
            "    Found existing installation: jaxlib 0.7.2\n",
            "    Uninstalling jaxlib-0.7.2:\n",
            "      Successfully uninstalled jaxlib-0.7.2\n",
            "  Attempting uninstall: jax\n",
            "    Found existing installation: jax 0.7.2\n",
            "    Uninstalling jax-0.7.2:\n",
            "      Successfully uninstalled jax-0.7.2\n",
            "\u001b[31mERROR: pip's dependency resolver does not currently take into account all the packages that are installed. This behaviour is the source of the following dependency conflicts.\n",
            "scikit-image 0.25.2 requires networkx>=3.0, but you have networkx 2.8.8 which is incompatible.\n",
            "xarray 2025.10.1 requires packaging>=24.1, but you have packaging 23.2 which is incompatible.\n",
            "opencv-contrib-python 4.12.0.88 requires numpy<2.3.0,>=2; python_version >= \"3.9\", but you have numpy 1.26.4 which is incompatible.\n",
            "nx-cugraph-cu12 25.6.0 requires networkx>=3.2, but you have networkx 2.8.8 which is incompatible.\n",
            "google-cloud-bigquery 3.38.0 requires packaging>=24.2.0, but you have packaging 23.2 which is incompatible.\n",
            "thinc 8.3.6 requires numpy<3.0.0,>=2.0.0, but you have numpy 1.26.4 which is incompatible.\n",
            "pytensor 2.35.1 requires numpy>=2.0, but you have numpy 1.26.4 which is incompatible.\n",
            "opencv-python-headless 4.12.0.88 requires numpy<2.3.0,>=2; python_version >= \"3.9\", but you have numpy 1.26.4 which is incompatible.\n",
            "opencv-python 4.12.0.88 requires numpy<2.3.0,>=2; python_version >= \"3.9\", but you have numpy 1.26.4 which is incompatible.\n",
            "db-dtypes 1.4.3 requires packaging>=24.2.0, but you have packaging 23.2 which is incompatible.\u001b[0m\u001b[31m\n",
            "\u001b[0mSuccessfully installed GridDataFormats-1.0.2 MDAnalysis-2.10.0 dm-haiku-0.0.15 e3nn-0.5.8 emlp-1.0.3 exmol-3.3.0 jax-0.7.1 jaxlib-0.7.1 jmp-0.0.4 mda-xdrlib-0.2.0 mmtf-python-1.1.3 mordred-1.2.0 mrcfile-1.5.4 networkx-2.8.8 numpy-1.26.4 objax-1.8.0 opt_einsum_fx-0.1.4 packaging-23.2 parameterized-0.9.0 ratelimit-2.2.1 rdkit-2025.9.1 selfies-2.2.0 skunk-1.3.0 synspace-1.0.0 tensorflowjs-4.22.0\n"
          ]
        },
        {
          "output_type": "display_data",
          "data": {
            "application/vnd.colab-display-data+json": {
              "pip_warning": {
                "packages": [
                  "jax",
                  "jaxlib",
                  "numpy",
                  "packaging"
                ]
              },
              "id": "27c272421134478f9995857bd49d4c5d"
            }
          },
          "metadata": {}
        }
      ]
    },
    {
      "cell_type": "code",
      "source": [
        "!pip install torch==1.12.0+cu113 torchvision==0.13.0+cu113 torchaudio==0.12.0 --extra-index-url https://download.pytorch.org/whl/cu113"
      ],
      "metadata": {
        "colab": {
          "base_uri": "https://localhost:8080/"
        },
        "id": "HSVTNirpa5T0",
        "outputId": "db1de000-73db-4ed5-99d3-cdb424b40c4a"
      },
      "execution_count": 11,
      "outputs": [
        {
          "output_type": "stream",
          "name": "stdout",
          "text": [
            "Traceback (most recent call last):\n",
            "  File \"/usr/local/bin/pip3\", line 4, in <module>\n",
            "    from pip._internal.cli.main import main\n",
            "  File \"/usr/lib/python3/dist-packages/pip/_internal/cli/main.py\", line 9, in <module>\n",
            "    from pip._internal.cli.autocompletion import autocomplete\n",
            "  File \"/usr/lib/python3/dist-packages/pip/_internal/cli/autocompletion.py\", line 10, in <module>\n",
            "    from pip._internal.cli.main_parser import create_main_parser\n",
            "  File \"/usr/lib/python3/dist-packages/pip/_internal/cli/main_parser.py\", line 8, in <module>\n",
            "    from pip._internal.cli import cmdoptions\n",
            "  File \"/usr/lib/python3/dist-packages/pip/_internal/cli/cmdoptions.py\", line 23, in <module>\n",
            "    from pip._internal.cli.parser import ConfigOptionParser\n",
            "  File \"/usr/lib/python3/dist-packages/pip/_internal/cli/parser.py\", line 12, in <module>\n",
            "    from pip._internal.configuration import Configuration, ConfigurationError\n",
            "  File \"/usr/lib/python3/dist-packages/pip/_internal/configuration.py\", line 26, in <module>\n",
            "    from pip._internal.utils.logging import getLogger\n",
            "  File \"/usr/lib/python3/dist-packages/pip/_internal/utils/logging.py\", line 27, in <module>\n",
            "    from pip._internal.utils.misc import ensure_dir\n",
            "  File \"/usr/lib/python3/dist-packages/pip/_internal/utils/misc.py\", line 39, in <module>\n",
            "    from pip._internal.locations import get_major_minor_version\n",
            "  File \"/usr/lib/python3/dist-packages/pip/_internal/locations/__init__.py\", line 14, in <module>\n",
            "    from . import _distutils, _sysconfig\n",
            "  File \"/usr/lib/python3/dist-packages/pip/_internal/locations/_distutils.py\", line 9, in <module>\n",
            "    from distutils.cmd import Command as DistutilsCommand\n",
            "ModuleNotFoundError: No module named 'distutils.cmd'\n"
          ]
        }
      ]
    },
    {
      "cell_type": "code",
      "source": [
        "!pip install --upgrade setuptools"
      ],
      "metadata": {
        "colab": {
          "base_uri": "https://localhost:8080/",
          "height": 304
        },
        "id": "5ZzsPZvugJpO",
        "outputId": "2066e743-c968-4532-d840-77bbcf8095cf"
      },
      "execution_count": 18,
      "outputs": [
        {
          "output_type": "stream",
          "name": "stdout",
          "text": [
            "Requirement already satisfied: setuptools in /usr/lib/python3/dist-packages (68.1.2)\n",
            "Collecting setuptools\n",
            "  Downloading setuptools-80.9.0-py3-none-any.whl.metadata (6.6 kB)\n",
            "Downloading setuptools-80.9.0-py3-none-any.whl (1.2 MB)\n",
            "\u001b[2K   \u001b[90m━━━━━━━━━━━━━━━━━━━━━━━━━━━━━━━━━━━━━━━━\u001b[0m \u001b[32m1.2/1.2 MB\u001b[0m \u001b[31m32.4 MB/s\u001b[0m  \u001b[33m0:00:00\u001b[0m\n",
            "\u001b[?25hInstalling collected packages: setuptools\n",
            "  Attempting uninstall: setuptools\n",
            "    Found existing installation: setuptools 68.1.2\n",
            "    Uninstalling setuptools-68.1.2:\n",
            "      Successfully uninstalled setuptools-68.1.2\n",
            "Successfully installed setuptools-80.9.0\n"
          ]
        },
        {
          "output_type": "display_data",
          "data": {
            "application/vnd.colab-display-data+json": {
              "pip_warning": {
                "packages": [
                  "_distutils_hack"
                ]
              },
              "id": "943d43e535da417f97e6a6a3e04d1c8c"
            }
          },
          "metadata": {}
        }
      ]
    },
    {
      "cell_type": "code",
      "source": [
        "#!apt-get install python3.9 -y\n",
        "!apt-get install python3.9 python3.9-distutils -y"
      ],
      "metadata": {
        "collapsed": true,
        "colab": {
          "base_uri": "https://localhost:8080/"
        },
        "id": "hKIzxJFScL4w",
        "outputId": "e021d123-4b0c-476d-e5b8-40495a52dfe9"
      },
      "execution_count": 5,
      "outputs": [
        {
          "output_type": "stream",
          "name": "stdout",
          "text": [
            "Reading package lists... Done\n",
            "Building dependency tree... Done\n",
            "Reading state information... Done\n",
            "The following additional packages will be installed:\n",
            "  libpython3.9-minimal libpython3.9-stdlib python3.9-lib2to3 python3.9-minimal\n",
            "Suggested packages:\n",
            "  python3.9-venv binfmt-support\n",
            "The following NEW packages will be installed:\n",
            "  libpython3.9-minimal libpython3.9-stdlib python3.9 python3.9-distutils\n",
            "  python3.9-lib2to3 python3.9-minimal\n",
            "0 upgraded, 6 newly installed, 0 to remove and 41 not upgraded.\n",
            "Need to get 5,170 kB of archives.\n",
            "After this operation, 20.2 MB of additional disk space will be used.\n",
            "Get:1 https://ppa.launchpadcontent.net/deadsnakes/ppa/ubuntu jammy/main amd64 libpython3.9-minimal amd64 3.9.24-1+jammy1 [838 kB]\n",
            "Get:2 https://ppa.launchpadcontent.net/deadsnakes/ppa/ubuntu jammy/main amd64 python3.9-minimal amd64 3.9.24-1+jammy1 [2,075 kB]\n",
            "Get:3 https://ppa.launchpadcontent.net/deadsnakes/ppa/ubuntu jammy/main amd64 libpython3.9-stdlib amd64 3.9.24-1+jammy1 [1,845 kB]\n",
            "Get:4 https://ppa.launchpadcontent.net/deadsnakes/ppa/ubuntu jammy/main amd64 python3.9 amd64 3.9.24-1+jammy1 [93.0 kB]\n",
            "Get:5 https://ppa.launchpadcontent.net/deadsnakes/ppa/ubuntu jammy/main amd64 python3.9-lib2to3 all 3.9.24-1+jammy1 [127 kB]\n",
            "Get:6 https://ppa.launchpadcontent.net/deadsnakes/ppa/ubuntu jammy/main amd64 python3.9-distutils all 3.9.24-1+jammy1 [193 kB]\n",
            "Fetched 5,170 kB in 10s (540 kB/s)\n",
            "Selecting previously unselected package libpython3.9-minimal:amd64.\n",
            "(Reading database ... 125079 files and directories currently installed.)\n",
            "Preparing to unpack .../0-libpython3.9-minimal_3.9.24-1+jammy1_amd64.deb ...\n",
            "Unpacking libpython3.9-minimal:amd64 (3.9.24-1+jammy1) ...\n",
            "Selecting previously unselected package python3.9-minimal.\n",
            "Preparing to unpack .../1-python3.9-minimal_3.9.24-1+jammy1_amd64.deb ...\n",
            "Unpacking python3.9-minimal (3.9.24-1+jammy1) ...\n",
            "Selecting previously unselected package libpython3.9-stdlib:amd64.\n",
            "Preparing to unpack .../2-libpython3.9-stdlib_3.9.24-1+jammy1_amd64.deb ...\n",
            "Unpacking libpython3.9-stdlib:amd64 (3.9.24-1+jammy1) ...\n",
            "Selecting previously unselected package python3.9.\n",
            "Preparing to unpack .../3-python3.9_3.9.24-1+jammy1_amd64.deb ...\n",
            "Unpacking python3.9 (3.9.24-1+jammy1) ...\n",
            "Selecting previously unselected package python3.9-lib2to3.\n",
            "Preparing to unpack .../4-python3.9-lib2to3_3.9.24-1+jammy1_all.deb ...\n",
            "Unpacking python3.9-lib2to3 (3.9.24-1+jammy1) ...\n",
            "Selecting previously unselected package python3.9-distutils.\n",
            "Preparing to unpack .../5-python3.9-distutils_3.9.24-1+jammy1_all.deb ...\n",
            "Unpacking python3.9-distutils (3.9.24-1+jammy1) ...\n",
            "Setting up libpython3.9-minimal:amd64 (3.9.24-1+jammy1) ...\n",
            "Setting up python3.9-lib2to3 (3.9.24-1+jammy1) ...\n",
            "Setting up python3.9-distutils (3.9.24-1+jammy1) ...\n",
            "Setting up python3.9-minimal (3.9.24-1+jammy1) ...\n",
            "Setting up libpython3.9-stdlib:amd64 (3.9.24-1+jammy1) ...\n",
            "Setting up python3.9 (3.9.24-1+jammy1) ...\n",
            "Processing triggers for mailcap (3.70+nmu1ubuntu1) ...\n",
            "Processing triggers for man-db (2.10.2-1) ...\n"
          ]
        }
      ]
    },
    {
      "cell_type": "code",
      "source": [
        "!update-alternatives --install /usr/bin/python3 python3 /usr/bin/python3.9 1\n",
        "!update-alternatives --config python3"
      ],
      "metadata": {
        "collapsed": true,
        "colab": {
          "base_uri": "https://localhost:8080/"
        },
        "id": "sjZM-kxrdrlR",
        "outputId": "dd2bfaa5-7b9c-4495-ce2f-2afc2d719e20"
      },
      "execution_count": 6,
      "outputs": [
        {
          "output_type": "stream",
          "name": "stdout",
          "text": [
            "There are 3 choices for the alternative python3 (providing /usr/bin/python3).\n",
            "\n",
            "  Selection    Path                 Priority   Status\n",
            "------------------------------------------------------------\n",
            "* 0            /usr/bin/python3.12   2         auto mode\n",
            "  1            /usr/bin/python3.10   1         manual mode\n",
            "  2            /usr/bin/python3.12   2         manual mode\n",
            "  3            /usr/bin/python3.9    1         manual mode\n",
            "\n",
            "Press <enter> to keep the current choice[*], or type selection number: 3\n",
            "update-alternatives: using /usr/bin/python3.9 to provide /usr/bin/python3 (python3) in manual mode\n"
          ]
        }
      ]
    },
    {
      "cell_type": "code",
      "source": [
        "!apt-get install python3-pip\n",
        "!python3 -m pip install --upgrade pip --user"
      ],
      "metadata": {
        "collapsed": true,
        "colab": {
          "base_uri": "https://localhost:8080/"
        },
        "id": "hD2-A4_Jem1n",
        "outputId": "a122777b-3a52-465d-e766-80a48146e0e6"
      },
      "execution_count": 7,
      "outputs": [
        {
          "output_type": "stream",
          "name": "stdout",
          "text": [
            "Reading package lists... Done\n",
            "Building dependency tree... Done\n",
            "Reading state information... Done\n",
            "The following additional packages will be installed:\n",
            "  python3-pkg-resources python3-setuptools python3-wheel\n",
            "Suggested packages:\n",
            "  python-setuptools-doc\n",
            "The following NEW packages will be installed:\n",
            "  python3-pip python3-setuptools python3-wheel\n",
            "The following packages will be upgraded:\n",
            "  python3-pkg-resources\n",
            "1 upgraded, 3 newly installed, 0 to remove and 40 not upgraded.\n",
            "Need to get 2,019 kB of archives.\n",
            "After this operation, 9,616 kB of additional disk space will be used.\n",
            "Get:1 http://archive.ubuntu.com/ubuntu jammy-updates/universe amd64 python3-wheel all 0.37.1-2ubuntu0.22.04.1 [32.0 kB]\n",
            "Get:2 http://archive.ubuntu.com/ubuntu jammy-updates/universe amd64 python3-pip all 22.0.2+dfsg-1ubuntu0.7 [1,306 kB]\n",
            "Get:3 https://ppa.launchpadcontent.net/ubuntugis/ppa/ubuntu jammy/main amd64 python3-pkg-resources all 68.1.2-2~jammy3 [216 kB]\n",
            "Get:4 https://ppa.launchpadcontent.net/ubuntugis/ppa/ubuntu jammy/main amd64 python3-setuptools all 68.1.2-2~jammy3 [465 kB]\n",
            "Fetched 2,019 kB in 2s (1,083 kB/s)\n",
            "(Reading database ... 125857 files and directories currently installed.)\n",
            "Preparing to unpack .../python3-pkg-resources_68.1.2-2~jammy3_all.deb ...\n",
            "Unpacking python3-pkg-resources (68.1.2-2~jammy3) over (59.6.0-1.2ubuntu0.22.04.3) ...\n",
            "Selecting previously unselected package python3-setuptools.\n",
            "Preparing to unpack .../python3-setuptools_68.1.2-2~jammy3_all.deb ...\n",
            "Unpacking python3-setuptools (68.1.2-2~jammy3) ...\n",
            "Selecting previously unselected package python3-wheel.\n",
            "Preparing to unpack .../python3-wheel_0.37.1-2ubuntu0.22.04.1_all.deb ...\n",
            "Unpacking python3-wheel (0.37.1-2ubuntu0.22.04.1) ...\n",
            "Selecting previously unselected package python3-pip.\n",
            "Preparing to unpack .../python3-pip_22.0.2+dfsg-1ubuntu0.7_all.deb ...\n",
            "Unpacking python3-pip (22.0.2+dfsg-1ubuntu0.7) ...\n",
            "Setting up python3-pkg-resources (68.1.2-2~jammy3) ...\n",
            "Setting up python3-setuptools (68.1.2-2~jammy3) ...\n",
            "Setting up python3-wheel (0.37.1-2ubuntu0.22.04.1) ...\n",
            "Setting up python3-pip (22.0.2+dfsg-1ubuntu0.7) ...\n",
            "Processing triggers for man-db (2.10.2-1) ...\n",
            "Requirement already satisfied: pip in /usr/lib/python3/dist-packages (22.0.2)\n",
            "Collecting pip\n",
            "  Downloading pip-25.3-py3-none-any.whl (1.8 MB)\n",
            "\u001b[2K     \u001b[90m━━━━━━━━━━━━━━━━━━━━━━━━━━━━━━━━━━━━━━━━\u001b[0m \u001b[32m1.8/1.8 MB\u001b[0m \u001b[31m23.1 MB/s\u001b[0m eta \u001b[36m0:00:00\u001b[0m\n",
            "\u001b[?25hInstalling collected packages: pip\n",
            "\u001b[33m  WARNING: The scripts pip, pip3 and pip3.9 are installed in '/root/.local/bin' which is not on PATH.\n",
            "  Consider adding this directory to PATH or, if you prefer to suppress this warning, use --no-warn-script-location.\u001b[0m\u001b[33m\n",
            "\u001b[0mSuccessfully installed pip-25.3\n",
            "\u001b[33mWARNING: Running pip as the 'root' user can result in broken permissions and conflicting behaviour with the system package manager. It is recommended to use a virtual environment instead: https://pip.pypa.io/warnings/venv\u001b[0m\u001b[33m\n",
            "\u001b[0m"
          ]
        }
      ]
    },
    {
      "cell_type": "code",
      "source": [
        "!python -V"
      ],
      "metadata": {
        "colab": {
          "base_uri": "https://localhost:8080/"
        },
        "id": "MrYEDka-cZdD",
        "outputId": "d56c997f-e8a0-413b-dce4-be047c1cd82c"
      },
      "execution_count": 8,
      "outputs": [
        {
          "output_type": "stream",
          "name": "stdout",
          "text": [
            "Python 3.9.24\n"
          ]
        }
      ]
    },
    {
      "cell_type": "code",
      "source": [
        "!pip install  \"simpletransformers==0.63.9\" linkify-it-py"
      ],
      "metadata": {
        "id": "lsoW76JybHVk"
      },
      "execution_count": null,
      "outputs": []
    },
    {
      "cell_type": "code",
      "source": [
        "!git clone https://github.com/whitead/dmol-book.git\n",
        "!sed '32s/emlp==1.0.2/emlp/' dmol-book/package/setup.py -i\n"
      ],
      "metadata": {
        "colab": {
          "base_uri": "https://localhost:8080/"
        },
        "id": "B8jOzBCQVkSP",
        "outputId": "6f89e244-86b7-4844-9f2e-025f866e375a"
      },
      "execution_count": 21,
      "outputs": [
        {
          "output_type": "stream",
          "name": "stdout",
          "text": [
            "fatal: destination path 'dmol-book' already exists and is not an empty directory.\n"
          ]
        }
      ]
    },
    {
      "cell_type": "code",
      "execution_count": 6,
      "metadata": {
        "colab": {
          "base_uri": "https://localhost:8080/",
          "height": 366
        },
        "id": "CPWxc5f4T-EK",
        "outputId": "9103085d-c60b-4236-e46c-0fdbff663f14"
      },
      "outputs": [
        {
          "output_type": "error",
          "ename": "ModuleNotFoundError",
          "evalue": "No module named 'fetch_data'",
          "traceback": [
            "\u001b[0;31m---------------------------------------------------------------------------\u001b[0m",
            "\u001b[0;31mModuleNotFoundError\u001b[0m                       Traceback (most recent call last)",
            "\u001b[0;32m/tmp/ipython-input-4177038506.py\u001b[0m in \u001b[0;36m<cell line: 0>\u001b[0;34m()\u001b[0m\n\u001b[1;32m      1\u001b[0m \u001b[0;32mimport\u001b[0m \u001b[0mtensorflow\u001b[0m \u001b[0;32mas\u001b[0m \u001b[0mtf\u001b[0m\u001b[0;34m\u001b[0m\u001b[0;34m\u001b[0m\u001b[0m\n\u001b[1;32m      2\u001b[0m \u001b[0;32mimport\u001b[0m \u001b[0mnumpy\u001b[0m \u001b[0;32mas\u001b[0m \u001b[0mnp\u001b[0m\u001b[0;34m\u001b[0m\u001b[0;34m\u001b[0m\u001b[0m\n\u001b[0;32m----> 3\u001b[0;31m \u001b[0;32mfrom\u001b[0m \u001b[0mfetch_data\u001b[0m \u001b[0;32mimport\u001b[0m \u001b[0mqm9_parse\u001b[0m\u001b[0;34m,\u001b[0m \u001b[0mqm9_fetch\u001b[0m\u001b[0;34m\u001b[0m\u001b[0;34m\u001b[0m\u001b[0m\n\u001b[0m\u001b[1;32m      4\u001b[0m \u001b[0;32mimport\u001b[0m \u001b[0mdmol\u001b[0m\u001b[0;34m\u001b[0m\u001b[0;34m\u001b[0m\u001b[0m\n",
            "\u001b[0;31mModuleNotFoundError\u001b[0m: No module named 'fetch_data'",
            "",
            "\u001b[0;31m---------------------------------------------------------------------------\u001b[0;32m\nNOTE: If your import is failing due to a missing package, you can\nmanually install dependencies using either !pip or !apt.\n\nTo view examples of installing some common dependencies, click the\n\"Open Examples\" button below.\n\u001b[0;31m---------------------------------------------------------------------------\u001b[0m\n"
          ],
          "errorDetails": {
            "actions": [
              {
                "action": "open_url",
                "actionText": "Open Examples",
                "url": "/notebooks/snippets/importing_libraries.ipynb"
              }
            ]
          }
        }
      ],
      "source": [
        "import tensorflow as tf\n",
        "import numpy as np\n",
        "from fetch_data import qm9_parse, qm9_fetch\n",
        "import dmol"
      ]
    },
    {
      "cell_type": "markdown",
      "metadata": {
        "id": "83ui3RUsT-EL"
      },
      "source": [
        "Let's load the data. This step will take a few minutes as it is downloaded and processed."
      ]
    },
    {
      "cell_type": "code",
      "execution_count": null,
      "metadata": {
        "tags": [
          "remove-output"
        ],
        "id": "erGzFH97T-EL"
      },
      "outputs": [],
      "source": [
        "qm9_records = qm9_fetch()\n",
        "data = qm9_parse(qm9_records)"
      ]
    },
    {
      "cell_type": "markdown",
      "metadata": {
        "id": "GANg25CET-EL"
      },
      "source": [
        "`data` is an iterable containing the data for the 133k molecules. Let's examine the first one."
      ]
    },
    {
      "cell_type": "code",
      "execution_count": null,
      "metadata": {
        "id": "EvDBh8PuT-EL"
      },
      "outputs": [],
      "source": [
        "for d in data:\n",
        "    print(d)\n",
        "    break"
      ]
    },
    {
      "cell_type": "markdown",
      "metadata": {
        "id": "4eSZ-hwoT-EM"
      },
      "source": [
        "These are Tensorflow Tensors. They can be converted to numpy arrays via `x.numpy()`. The first item is the element vector `6,1,1,1,1`. Do you recognize the elements? It's C, H, H, H, H. The positions come next. Note that there is an extra column containing the atom partial charges, which we will not use as a feature. Finally, the last tensor is the label vector.\n",
        "\n",
        "Now we will do some processing of the data to get into a more usable format. Let's convert to numpy arrays, remove the partial charges, and convert the elements into one-hot vectors."
      ]
    },
    {
      "cell_type": "code",
      "execution_count": null,
      "metadata": {
        "id": "Eqs28VrRT-EM"
      },
      "outputs": [],
      "source": [
        "def convert_record(d):\n",
        "    # break up record\n",
        "    (e, x), y = d\n",
        "    #\n",
        "    e = e.numpy()\n",
        "    x = x.numpy()\n",
        "    r = x[:, :3]\n",
        "    # make ohc size larger\n",
        "    # so use same node feature\n",
        "    # shape later\n",
        "    ohc = np.zeros((len(e), 16))\n",
        "    ohc[np.arange(len(e)), e - 1] = 1\n",
        "    return (ohc, r), y.numpy()[13]\n",
        "\n",
        "\n",
        "for d in data:\n",
        "    (e, x), y = convert_record(d)\n",
        "    print(\"Element one hots\\n\", e)\n",
        "    print(\"Coordinates\\n\", x)\n",
        "    print(\"Label:\", y)\n",
        "    break"
      ]
    },
    {
      "cell_type": "markdown",
      "metadata": {
        "id": "bE932Q42T-EM"
      },
      "source": [
        "## Baseline Model\n",
        "\n",
        "Before we get too far into modeling, let's see what a simple model can do for accuracy. This will help establish a baseline model which any more sophisticated implementation should exceed in accuracy. You can make many choices for this, but I'll just make a linear regression based on number of atom types."
      ]
    },
    {
      "cell_type": "code",
      "execution_count": null,
      "metadata": {
        "id": "sM_caKrqT-EM"
      },
      "outputs": [],
      "source": [
        "import jax.numpy as jnp\n",
        "import jax.example_libraries.optimizers as optimizers\n",
        "import jax\n",
        "import warnings\n",
        "import matplotlib.pyplot as plt\n",
        "\n",
        "warnings.filterwarnings(\"ignore\")\n",
        "\n",
        "\n",
        "@jax.jit\n",
        "def baseline_model(nodes, w, b):\n",
        "    # get sum of each element type\n",
        "    atom_count = jnp.sum(nodes, axis=0)\n",
        "    yhat = atom_count @ w + b\n",
        "    return yhat\n",
        "\n",
        "\n",
        "def baseline_loss(nodes, y, w, b):\n",
        "    return (baseline_model(nodes, w, b) - y) ** 2\n",
        "\n",
        "\n",
        "baseline_loss_grad = jax.grad(baseline_loss, (2, 3))\n",
        "w = np.ones(16)\n",
        "b = 0.0"
      ]
    },
    {
      "cell_type": "markdown",
      "metadata": {
        "id": "WpXe05bET-EM"
      },
      "source": [
        "We've set-up our simple regression model. One complexity is that we cannot batch the molecules like normal because each molecule contains different shaped tensors."
      ]
    },
    {
      "cell_type": "code",
      "execution_count": null,
      "metadata": {
        "id": "oE3R11pxT-EM"
      },
      "outputs": [],
      "source": [
        "# we'll just train on 5,000 and use 1,000 for test\n",
        "# shuffle, but only once (reshuffle_each_iteration=False) so\n",
        "# we lock in which are train/test/val\n",
        "shuffled_data = data.shuffle(7000, reshuffle_each_iteration=False)\n",
        "test_set = shuffled_data.take(1000)\n",
        "valid_set = shuffled_data.skip(1000).take(1000)\n",
        "train_set = shuffled_data.skip(2000).take(5000)"
      ]
    },
    {
      "cell_type": "markdown",
      "metadata": {
        "id": "rDf4DWyBT-EM"
      },
      "source": [
        "The labels in this data are quite large, so we're going to make a transform on them to make our learning rates and training going more smoothly."
      ]
    },
    {
      "cell_type": "code",
      "execution_count": null,
      "metadata": {
        "id": "XHyJM15AT-EN"
      },
      "outputs": [],
      "source": [
        "ys = [convert_record(d)[1] for d in train_set]\n",
        "train_ym = np.mean(ys)\n",
        "train_ys = np.std(ys)\n",
        "print(\"Mean = \", train_ym, \"Std =\", train_ys)"
      ]
    },
    {
      "cell_type": "markdown",
      "metadata": {
        "id": "S4lvQaAxT-EN"
      },
      "source": [
        "Now we'll just use this transform when training: $y_s = \\frac{y - \\mu_y}{\\sigma_y}$ and then our predictions will be transformed by $\\hat{y} = \\hat{f}(e,x) \\cdot \\sigma_y + \\mu_y$. This just helps standardize our range of outputs."
      ]
    },
    {
      "cell_type": "code",
      "execution_count": null,
      "metadata": {
        "id": "LTU12MZaT-EN"
      },
      "outputs": [],
      "source": [
        "def transform_label(y):\n",
        "    return (y - train_ym) / train_ys\n",
        "\n",
        "\n",
        "def transform_prediction(y):\n",
        "    return y * train_ys + train_ym"
      ]
    },
    {
      "cell_type": "code",
      "execution_count": null,
      "metadata": {
        "scrolled": true,
        "id": "LJD3Rsu6T-EN"
      },
      "outputs": [],
      "source": [
        "epochs = 16\n",
        "eta = 1e-3\n",
        "baseline_val_loss = [0.0 for _ in range(epochs)]\n",
        "for epoch in range(epochs):\n",
        "    for d in train_set:\n",
        "        (e, x), y_raw = convert_record(d)\n",
        "        y = transform_label(y_raw)\n",
        "        grad_est = baseline_loss_grad(e, y, w, b)\n",
        "        # update regression weights\n",
        "        w -= eta * grad_est[0]\n",
        "        b -= eta * grad_est[1]\n",
        "    # compute validation loss\n",
        "    for v in valid_set:\n",
        "        (e, x), y_raw = convert_record(v)\n",
        "        y = transform_label(y_raw)\n",
        "        # convert SE to RMSE\n",
        "        baseline_val_loss[epoch] += baseline_loss(e, y, w, b)\n",
        "    baseline_val_loss[epoch] = jnp.sqrt(baseline_val_loss[epoch] / 1000)\n",
        "    eta *= 0.9\n",
        "plt.plot(baseline_val_loss)\n",
        "plt.xlabel(\"Epoch\")\n",
        "plt.ylabel(\"Val Loss\")\n",
        "plt.show()"
      ]
    },
    {
      "cell_type": "markdown",
      "metadata": {
        "id": "uQYsLFFZT-EN"
      },
      "source": [
        "This is poor performance, but it gives us a baseline value of what we can expect. One unusual detail I did in this training was to slowly reduce the learning rate. This is because our features and labels are all in different magnitudes. Our weights need to move far to get into the right order of magnitude and then need to fine-tune a little. Thus, we start at high learning rate and decrease."
      ]
    },
    {
      "cell_type": "code",
      "execution_count": null,
      "metadata": {
        "id": "0yfEROi8T-EN"
      },
      "outputs": [],
      "source": [
        "ys = []\n",
        "yhats = []\n",
        "for v in valid_set:\n",
        "    (e, x), y = convert_record(v)\n",
        "    ys.append(y)\n",
        "    yhat_raw = baseline_model(e, w, b)\n",
        "    yhat = transform_prediction(yhat_raw)\n",
        "    yhats.append(yhat)\n",
        "\n",
        "\n",
        "plt.plot(ys, ys, \"-\")\n",
        "plt.plot(ys, yhats, \".\")\n",
        "plt.xlabel(\"Energy\")\n",
        "plt.ylabel(\"Predicted Energy\")\n",
        "plt.show()"
      ]
    },
    {
      "cell_type": "markdown",
      "metadata": {
        "id": "bQyFxGXPT-EN"
      },
      "source": [
        "You can see that the broad trends about molecule size capture a lot of variance, but more work needs to be done."
      ]
    },
    {
      "cell_type": "markdown",
      "metadata": {
        "id": "fNB1ZcnET-EN"
      },
      "source": [
        "## Example GNN Model\n",
        "\n",
        "We now can work with this data to build a model. Let's build a simple model that can model energy and obeys the invariances required of the problem. We will use a graph neural network (GNN) because it obeys permutation invariance. We will create a *graph* from the coordinates/element vector by joining all atoms to all other atoms and using their inverse pairwise distance as the edge weight. The choice of pairwise distance gives us translation and rotation invariance. The choice of inverse distance means that atoms which are far away naturally have low edge weights.\n",
        "\n",
        "I will now define our model using the Battaglia equations {cite}`battaglia2018relational`. As opposed to most examples we've seen in class, I will use the graph level feature vector $\\vec{u}$ which will ultimately be our estimate of energy. The edge update will only consider the sender and the edge weight with trainable parameters:\n",
        "\n",
        "\\begin{equation}\n",
        "      \\vec{e}^{'}_k = \\phi^e\\left( \\vec{e}_k, \\vec{v}_{rk}, \\vec{v}_{sk}, \\vec{u}\\right) = \\sigma\\left(\\vec{v}_{sk}\\vec{w}_ee_k + \\vec{b}_e\\right)\n",
        "\\end{equation}\n",
        "\n",
        "where the input edge $e_k$ will be a single number (inverse pairwise distance) and $\\vec{b}_e$ is a trainable bias vector. We will use a sum aggregation for edges (not shown). $\\sigma$ is a leaky ReLU. The leaky just prevents vanishing gradients, which I found empirically to reduce performance here. The node update will be\n",
        "\n",
        "\\begin{equation}\n",
        "   \\vec{v}^{'}_i = \\phi^v\\left( \\bar{e}^{'}_i, \\vec{v}_i, \\vec{u}\\right) = \\sigma\\left(\\mathbf{W}_v \\bar{e}^{'}_i\\right) + \\vec{v}_i\n",
        "\\end{equation}\n",
        "\n",
        "The global node aggregation will also be a sum. Finally, we have our graph feature vector update:\n",
        "\n",
        "\\begin{equation}\n",
        "    \\vec{u}^{'} = \\phi^u\\left( \\bar{e}^{'},\\bar{v}^{'}, \\vec{u}\\right) = \\sigma\\left(\\mathbf{W}_u\\bar{v}^{'}\\right) + \\vec{u}\n",
        "\\end{equation}\n",
        "\n",
        "\n",
        "To compute the final energy, we'll use our regression equation:\n",
        "\n",
        "\\begin{equation}\n",
        "    \\hat{E} = \\vec{w}\\cdot \\vec{u} + b\n",
        "\\end{equation}\n",
        "\n",
        "One final detail is that we will pass on $\\vec{u}$ and the nodes, but we will keep the edges the same at each GNN layer. Remember this is an example model: there are many changes that could be made to the above. Also, it is not kernel learning which is the favorite for this domain. Let's implement it though and see if it works."
      ]
    },
    {
      "cell_type": "markdown",
      "metadata": {
        "id": "5M_E236nT-EN"
      },
      "source": [
        "### JAX Model Implementation"
      ]
    },
    {
      "cell_type": "code",
      "execution_count": null,
      "metadata": {
        "id": "nKGwKBtaT-EN"
      },
      "outputs": [],
      "source": [
        "def x2e(x):\n",
        "    \"\"\"convert xyz coordinates to inverse pairwise distance\"\"\"\n",
        "    r2 = jnp.sum((x - x[:, jnp.newaxis, :]) ** 2, axis=-1)\n",
        "    e = jnp.where(r2 != 0, 1 / r2, 0.0)\n",
        "    return e\n",
        "\n",
        "\n",
        "def gnn_layer(nodes, edges, features, we, web, wv, wu):\n",
        "    \"\"\"Implementation of the GNN\"\"\"\n",
        "    # make nodes be N x N so we can just multiply directly\n",
        "    # ek is now shaped N x N x features\n",
        "    ek = jax.nn.leaky_relu(\n",
        "        web\n",
        "        + jnp.repeat(nodes[jnp.newaxis, ...], nodes.shape[0], axis=0)\n",
        "        @ we\n",
        "        * edges[..., jnp.newaxis]\n",
        "    )\n",
        "    # sum over neighbors to get N x features\n",
        "    ebar = jnp.sum(ek, axis=1)\n",
        "    # dense layer for new nodes to get N x features\n",
        "    new_nodes = jax.nn.leaky_relu(ebar @ wv) + nodes\n",
        "    # sum over nodes to get shape features\n",
        "    global_node_features = jnp.sum(new_nodes, axis=0)\n",
        "    # dense layer for new features\n",
        "    new_features = jax.nn.leaky_relu(global_node_features @ wu) + features\n",
        "    # just return features for ease of use\n",
        "    return new_nodes, edges, new_features"
      ]
    },
    {
      "cell_type": "markdown",
      "metadata": {
        "id": "ozGqP6AgT-EN"
      },
      "source": [
        "We have implemented the code to convert coordinates into inverse pairwise distance and the GNN equations above. Let's test them out."
      ]
    },
    {
      "cell_type": "code",
      "execution_count": null,
      "metadata": {
        "id": "2xoZXEjTT-EN"
      },
      "outputs": [],
      "source": [
        "graph_feature_len = 8\n",
        "node_feature_len = 16\n",
        "msg_feature_len = 16\n",
        "\n",
        "\n",
        "# make our weights\n",
        "def init_weights(g, n, m):\n",
        "    we = np.random.normal(size=(n, m), scale=1e-1)\n",
        "    wb = np.random.normal(size=(m), scale=1e-1)\n",
        "    wv = np.random.normal(size=(m, n), scale=1e-1)\n",
        "    wu = np.random.normal(size=(n, g), scale=1e-1)\n",
        "    return [we, wb, wv, wu]\n",
        "\n",
        "\n",
        "# make a graph\n",
        "nodes = e\n",
        "edges = x2e(x)\n",
        "features = jnp.zeros(graph_feature_len)\n",
        "\n",
        "# eval\n",
        "out = gnn_layer(\n",
        "    nodes,\n",
        "    edges,\n",
        "    features,\n",
        "    *init_weights(graph_feature_len, node_feature_len, msg_feature_len),\n",
        ")\n",
        "print(\"input feautres\", features)\n",
        "print(\"output features\", out[2])"
      ]
    },
    {
      "cell_type": "markdown",
      "metadata": {
        "id": "5mK1RdmST-EN"
      },
      "source": [
        "Great! Our model can update the graph features. Now we need to convert this into callable and loss. We'll stack two GNN layers."
      ]
    },
    {
      "cell_type": "code",
      "execution_count": null,
      "metadata": {
        "id": "MQsJAtd3T-EO"
      },
      "outputs": [],
      "source": [
        "# get weights for both layers\n",
        "w1 = init_weights(graph_feature_len, node_feature_len, msg_feature_len)\n",
        "w2 = init_weights(graph_feature_len, node_feature_len, msg_feature_len)\n",
        "w3 = np.random.normal(size=(graph_feature_len))\n",
        "b = 0.0\n",
        "\n",
        "\n",
        "@jax.jit\n",
        "def model(nodes, coords, w1, w2, w3, b):\n",
        "    f0 = jnp.zeros(graph_feature_len)\n",
        "    e0 = x2e(coords)\n",
        "    n0 = nodes\n",
        "    n1, e1, f1 = gnn_layer(n0, e0, f0, *w1)\n",
        "    n2, e2, f2 = gnn_layer(n1, e1, f1, *w2)\n",
        "    yhat = f2 @ w3 + b\n",
        "    return yhat\n",
        "\n",
        "\n",
        "def loss(nodes, coords, y, w1, w2, w3, b):\n",
        "    return (model(nodes, coords, w1, w2, w3, b) - y) ** 2\n",
        "\n",
        "\n",
        "loss_grad = jax.grad(loss, (3, 4, 5, 6))"
      ]
    },
    {
      "cell_type": "markdown",
      "metadata": {
        "id": "4BEtucLCT-EO"
      },
      "source": [
        "```{margin}\n",
        "You could pad the molecules to all be the same shape. This is a common strategy. We will skip this though for simplicity.\n",
        "```\n",
        "\n",
        "One small change we've made below is that we scale the learning rate for the GNN to be $ 1 / 10$ of the rate for the regression parameters. This is because the GNN parameters need to vary slower based on trial and error."
      ]
    },
    {
      "cell_type": "code",
      "execution_count": null,
      "metadata": {
        "id": "YqwUaVOLT-EO"
      },
      "outputs": [],
      "source": [
        "eta = 1e-3\n",
        "val_loss = [0.0 for _ in range(epochs)]\n",
        "for epoch in range(epochs):\n",
        "    for d in train_set:\n",
        "        (e, x), y_raw = convert_record(d)\n",
        "        y = transform_label(y_raw)\n",
        "        grad = loss_grad(e, x, y, w1, w2, w3, b)\n",
        "        # update regression weights\n",
        "        w3 -= eta * grad[2]\n",
        "        b -= eta * grad[3]\n",
        "        # update GNN weights\n",
        "        for i, w in [(0, w1), (1, w2)]:\n",
        "            for j in range(len(w)):\n",
        "                w[j] -= eta * grad[i][j] / 10\n",
        "    # compute validation loss\n",
        "    for v in valid_set:\n",
        "        (e, x), y_raw = convert_record(v)\n",
        "        y = transform_label(y_raw)\n",
        "        # convert SE to RMSE\n",
        "        val_loss[epoch] += loss(e, x, y, w1, w2, w3, b)\n",
        "    val_loss[epoch] = jnp.sqrt(val_loss[epoch] / 1000)\n",
        "    eta *= 0.9\n",
        "plt.plot(baseline_val_loss, label=\"baseline\")\n",
        "plt.plot(val_loss, label=\"GNN\")\n",
        "plt.legend()\n",
        "plt.xlabel(\"Epoch\")\n",
        "plt.ylabel(\"Val Loss\")\n",
        "plt.show()"
      ]
    },
    {
      "cell_type": "markdown",
      "metadata": {
        "id": "YAmJY06ET-EO"
      },
      "source": [
        "This is a large dataset and we're under training, but hopefully you get the principles of this process! Finally, we'll examine our parity plot."
      ]
    },
    {
      "cell_type": "code",
      "execution_count": null,
      "metadata": {
        "id": "Gxib3HhVT-EO"
      },
      "outputs": [],
      "source": [
        "ys = []\n",
        "yhats = []\n",
        "for v in valid_set:\n",
        "    (e, x), y = convert_record(v)\n",
        "    ys.append(y)\n",
        "    yhat_raw = model(e, x, w1, w2, w3, b)\n",
        "    yhats.append(transform_prediction(yhat_raw))\n",
        "\n",
        "\n",
        "plt.plot(ys, ys, \"-\")\n",
        "plt.plot(ys, yhats, \".\")\n",
        "plt.xlabel(\"Energy\")\n",
        "plt.ylabel(\"Predicted Energy\")\n",
        "plt.show()"
      ]
    },
    {
      "cell_type": "markdown",
      "metadata": {
        "id": "Tzr3MUlRT-EO"
      },
      "source": [
        "The clusters are molecule types/sizes. You can see we're starting to get the correct trend within the clusters, but a lot of work needs to be done to move some of them. Additional learning required!"
      ]
    },
    {
      "cell_type": "markdown",
      "metadata": {
        "id": "I5ZmMR6TT-EO"
      },
      "source": [
        "## Relevant Videos About Modeling QM9\n",
        "\n",
        "<iframe width=\"560\" height=\"315\" src=\"https://www.youtube-nocookie.com/embed/S09kzo5piAM\" frameborder=\"0\" allow=\"accelerometer; autoplay; clipboard-write; encrypted-media; gyroscope; picture-in-picture\" allowfullscreen></iframe>\n"
      ]
    },
    {
      "cell_type": "markdown",
      "metadata": {
        "id": "qLyPH5F6T-EO"
      },
      "source": [
        "## Cited References\n",
        "\n",
        "```{bibliography}\n",
        ":style: unsrtalpha\n",
        ":filter: docname in docnames\n",
        "```"
      ]
    }
  ],
  "metadata": {
    "celltoolbar": "Tags",
    "kernelspec": {
      "display_name": "Python 3",
      "name": "python3"
    },
    "language_info": {
      "codemirror_mode": {
        "name": "ipython",
        "version": 3
      },
      "file_extension": ".py",
      "mimetype": "text/x-python",
      "name": "python",
      "nbconvert_exporter": "python",
      "pygments_lexer": "ipython3",
      "version": "3.8.12"
    },
    "colab": {
      "provenance": []
    }
  },
  "nbformat": 4,
  "nbformat_minor": 0
}